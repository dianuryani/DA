{
 "cells": [
  {
   "cell_type": "code",
   "execution_count": 3,
   "metadata": {},
   "outputs": [],
   "source": [
    "#IMPORTING DATA\n",
    "import pandas as pd\n",
    "import numpy as np\n",
    "import io\n",
    "#import pandas_profiling\n",
    "retail_raw = pd.read_csv('https://dqlab-dataset.s3-ap-southeast-1.amazonaws.com/retail_raw_reduced_data_quality.csv')"
   ]
  },
  {
   "cell_type": "code",
   "execution_count": 4,
   "metadata": {},
   "outputs": [
    {
     "name": "stdout",
     "output_type": "stream",
     "text": [
      "order_id         int64\n",
      "order_date      object\n",
      "customer_id      int64\n",
      "city            object\n",
      "province        object\n",
      "product_id      object\n",
      "brand           object\n",
      "quantity       float64\n",
      "item_price     float64\n",
      "dtype: object\n"
     ]
    }
   ],
   "source": [
    "#INSPEKSI TIPE DATA\n",
    "# Cetak tipe data di setiap kolom retail_raw\n",
    "print(retail_raw.dtypes)"
   ]
  },
  {
   "cell_type": "code",
   "execution_count": 5,
   "metadata": {},
   "outputs": [
    {
     "name": "stdout",
     "output_type": "stream",
     "text": [
      "Length kolom city: 5000\n",
      "Length kolom product_id: 5000\n"
     ]
    }
   ],
   "source": [
    "#DESCRIPTIVE STATISTICS PART 1\n",
    "# Kolom city\n",
    "length_city = len(retail_raw['city'])\n",
    "print('Length kolom city:', length_city)\n",
    "\n",
    "# Tugas Praktek: Kolom product_id\n",
    "length_product_id = len(retail_raw['product_id'])\n",
    "print('Length kolom product_id:', length_product_id)"
   ]
  },
  {
   "cell_type": "code",
   "execution_count": 8,
   "metadata": {},
   "outputs": [
    {
     "name": "stdout",
     "output_type": "stream",
     "text": [
      "Count kolom count_city: 4984\n",
      "Count kolom product_id: 4989\n"
     ]
    }
   ],
   "source": [
    "#DESCRIPTIVE STATISTICS PART 2\n",
    "#fungsi count hanya menghitung yang bervalue, data null tidak dihitung\n",
    "# Count kolom city\n",
    "count_city = retail_raw['city'].count()\n",
    "print('Count kolom count_city:', count_city)\n",
    "\n",
    "# Tugas praktek: count kolom product_id\n",
    "count_product_id = retail_raw['product_id'].count()\n",
    "print('Count kolom product_id:', count_product_id)"
   ]
  },
  {
   "cell_type": "code",
   "execution_count": 11,
   "metadata": {},
   "outputs": [
    {
     "name": "stdout",
     "output_type": "stream",
     "text": [
      "Persentase missing value kolom city: 0.3%\n",
      "Persentase missing value kolom product_id: 0.2%\n"
     ]
    }
   ],
   "source": [
    "#DESCRIPTIVE STATISTICS PART 3\n",
    "# Missing value pada kolom city\n",
    "number_of_missing_values_city = length_city - count_city\n",
    "float_of_missing_values_city = float(number_of_missing_values_city/length_city)\n",
    "pct_of_missing_values_city = '{0:.1f}%'.format(float_of_missing_values_city*100)\n",
    "print('Persentase missing value kolom city:', pct_of_missing_values_city)\n",
    "\n",
    "# Tugas praktek: Missing value pada kolom product_id\n",
    "number_of_missing_values_product_id = length_product_id - count_product_id\n",
    "float_of_missing_values_product_id = float(number_of_missing_values_product_id/length_product_id)\n",
    "pct_of_missing_values_product_id = '{0:.1f}%'.format(float_of_missing_values_product_id * 100)\n",
    "print('Persentase missing value kolom product_id:', pct_of_missing_values_product_id)"
   ]
  },
  {
   "cell_type": "code",
   "execution_count": 12,
   "metadata": {},
   "outputs": [
    {
     "name": "stdout",
     "output_type": "stream",
     "text": [
      "Kolom quantity\n",
      "Minimum value:  1.0\n",
      "Maximum value:  720.0\n",
      "Mean value:  11.423987164059366\n",
      "Mode value:  0    1.0\n",
      "dtype: float64\n",
      "Median value:  5.0\n",
      "Standard Deviation value:  29.442025010811317\n",
      "\n",
      "Kolom item_price\n",
      "Minimum value:  26000.0\n",
      "Maximum value:  29762000.0\n",
      "Mean value:  933742.7311008623\n",
      "Median value:  604000.0\n",
      "Standard Deviation value:  1030829.8104242863\n"
     ]
    }
   ],
   "source": [
    "#DESCRIPTIVE STATISTICS PART 4\n",
    "# Deskriptif statistics kolom quantity\n",
    "print('Kolom quantity')\n",
    "print('Minimum value: ', retail_raw['quantity'].min())\n",
    "print('Maximum value: ', retail_raw['quantity'].max())\n",
    "print('Mean value: ', retail_raw['quantity'].mean())\n",
    "print('Mode value: ', retail_raw['quantity'].mode())\n",
    "print('Median value: ', retail_raw['quantity'].median())\n",
    "print('Standard Deviation value: ', retail_raw['quantity'].std())\n",
    "\n",
    "# Tugas praktek: Deskriptif statistics kolom item_price\n",
    "print('')\n",
    "print('Kolom item_price')\n",
    "print('Minimum value: ', retail_raw['item_price'].min())\n",
    "print('Maximum value: ', retail_raw['item_price'].max())\n",
    "print('Mean value: ', retail_raw['item_price'].mean())\n",
    "print('Median value: ', retail_raw['item_price'].median())\n",
    "print('Standard Deviation value: ', retail_raw['item_price'].std())"
   ]
  },
  {
   "cell_type": "code",
   "execution_count": 15,
   "metadata": {},
   "outputs": [
    {
     "name": "stdout",
     "output_type": "stream",
     "text": [
      "Kolom quantity:\n",
      "0.25     2.0\n",
      "0.50     5.0\n",
      "0.75    12.0\n",
      "Name: quantity, dtype: float64\n",
      "\n",
      "Kolom item_price:\n",
      "0.25     450000.0\n",
      "0.50     604000.0\n",
      "0.75    1045000.0\n",
      "Name: item_price, dtype: float64\n"
     ]
    }
   ],
   "source": [
    "#DESCRIPTIVE STATISTICS PART 5\n",
    "# Quantile statistics kolom quantity\n",
    "print('Kolom quantity:')\n",
    "print(retail_raw['quantity'].quantile([0.25,0.5,0.75]))\n",
    "\n",
    "# Tugas praktek: Quantile statistics kolom item_price\n",
    "print('')\n",
    "print('Kolom item_price:')\n",
    "print(retail_raw['item_price'].quantile([0.25,0.5,0.75]))"
   ]
  },
  {
   "cell_type": "code",
   "execution_count": 22,
   "metadata": {},
   "outputs": [
    {
     "name": "stdout",
     "output_type": "stream",
     "text": [
      "Korelasi quantity dengan item_price\n",
      "            quantity  item_price\n",
      "quantity    1.000000   -0.133936\n",
      "item_price -0.133936    1.000000\n",
      "\n",
      "-0.13393589414902457\n"
     ]
    }
   ],
   "source": [
    "#DESCRIPTIVE STATISTICS PART 6\n",
    "print('Korelasi quantity dengan item_price')\n",
    "print(retail_raw[['quantity', 'item_price']].corr())\n",
    "print('')\n",
    "#mengetahui korelasi satuan antara quantity dan item price\n",
    "print(retail_raw['quantity'].corr(retail_raw['item_price']))"
   ]
  },
  {
   "cell_type": "code",
   "execution_count": 35,
   "metadata": {},
   "outputs": [
    {
     "ename": "ModuleNotFoundError",
     "evalue": "No module named 'pandas_profiling'",
     "output_type": "error",
     "traceback": [
      "\u001b[1;31m---------------------------------------------------------------------------\u001b[0m",
      "\u001b[1;31mModuleNotFoundError\u001b[0m                       Traceback (most recent call last)",
      "\u001b[1;32m<ipython-input-35-6a00893fb3e1>\u001b[0m in \u001b[0;36m<module>\u001b[1;34m\u001b[0m\n\u001b[1;32m----> 1\u001b[1;33m \u001b[1;32mimport\u001b[0m \u001b[0mpandas_profiling\u001b[0m\u001b[1;33m\u001b[0m\u001b[1;33m\u001b[0m\u001b[0m\n\u001b[0m",
      "\u001b[1;31mModuleNotFoundError\u001b[0m: No module named 'pandas_profiling'"
     ]
    }
   ],
   "source": [
    "import pandas_profiling"
   ]
  },
  {
   "cell_type": "code",
   "execution_count": null,
   "metadata": {},
   "outputs": [],
   "source": []
  }
 ],
 "metadata": {
  "kernelspec": {
   "display_name": "Python 3",
   "language": "python",
   "name": "python3"
  },
  "language_info": {
   "codemirror_mode": {
    "name": "ipython",
    "version": 3
   },
   "file_extension": ".py",
   "mimetype": "text/x-python",
   "name": "python",
   "nbconvert_exporter": "python",
   "pygments_lexer": "ipython3",
   "version": "3.8.3"
  }
 },
 "nbformat": 4,
 "nbformat_minor": 4
}
