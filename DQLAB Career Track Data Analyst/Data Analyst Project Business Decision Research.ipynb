{
 "cells": [
  {
   "cell_type": "code",
   "execution_count": 39,
   "metadata": {},
   "outputs": [],
   "source": [
    "#LANGKAH\n",
    "#1. DATA PREPARATION TEST (IMPORT FILE & CLEANSING DATA)\n",
    "#2. VISUALISASI DATA\n",
    "#3. BASIC STATS METHOD"
   ]
  },
  {
   "cell_type": "code",
   "execution_count": 40,
   "metadata": {},
   "outputs": [
    {
     "name": "stdout",
     "output_type": "stream",
     "text": [
      "Lima data teratas:\n",
      "   no  Row_Num  Customer_ID Product  First_Transaction  Last_Transaction  \\\n",
      "0   1        1        29531   Jaket      1466304274396     1538718482608   \n",
      "1   2        2        29531  Sepatu      1406077331494     1545735761270   \n",
      "2   3        3       141526     Tas      1493349147000     1548322802000   \n",
      "3   4        4       141526   Jaket      1493362372547     1547643603911   \n",
      "4   5        5        37545  Sepatu      1429178498531     1542891221530   \n",
      "\n",
      "   Average_Transaction_Amount  Count_Transaction  \n",
      "0                     1467681                 22  \n",
      "1                     1269337                 41  \n",
      "2                      310915                 30  \n",
      "3                      722632                 27  \n",
      "4                     1775036                 25  \n",
      "\n",
      "Info dataset:\n",
      "<class 'pandas.core.frame.DataFrame'>\n",
      "RangeIndex: 100000 entries, 0 to 99999\n",
      "Data columns (total 8 columns):\n",
      " #   Column                      Non-Null Count   Dtype \n",
      "---  ------                      --------------   ----- \n",
      " 0   no                          100000 non-null  int64 \n",
      " 1   Row_Num                     100000 non-null  int64 \n",
      " 2   Customer_ID                 100000 non-null  int64 \n",
      " 3   Product                     100000 non-null  object\n",
      " 4   First_Transaction           100000 non-null  int64 \n",
      " 5   Last_Transaction            100000 non-null  int64 \n",
      " 6   Average_Transaction_Amount  100000 non-null  int64 \n",
      " 7   Count_Transaction           100000 non-null  int64 \n",
      "dtypes: int64(7), object(1)\n",
      "memory usage: 6.1+ MB\n",
      "None\n"
     ]
    }
   ],
   "source": [
    "#IMPORTING DATA DAN INSPECTION\n",
    "import pandas as pd\n",
    "\n",
    "df = pd.read_csv('https://dqlab-dataset.s3-ap-southeast-1.amazonaws.com/data_retail.csv', sep=';')\n",
    "\n",
    "print('Lima data teratas:')\n",
    "print(df.head())\n",
    "\n",
    "print('\\nInfo dataset:')\n",
    "print(df.info())"
   ]
  },
  {
   "cell_type": "code",
   "execution_count": 41,
   "metadata": {},
   "outputs": [
    {
     "name": "stdout",
     "output_type": "stream",
     "text": [
      "Lima data teratas:\n",
      "   no  Row_Num  Customer_ID Product             First_Transaction  \\\n",
      "0   1        1        29531   Jaket 2016-06-19 02:44:34.395999908   \n",
      "1   2        2        29531  Sepatu 2014-07-23 01:02:11.493999958   \n",
      "2   3        3       141526     Tas 2017-04-28 03:12:27.000000000   \n",
      "3   4        4       141526   Jaket 2017-04-28 06:52:52.546999931   \n",
      "4   5        5        37545  Sepatu 2015-04-16 10:01:38.530999899   \n",
      "\n",
      "               Last_Transaction  Average_Transaction_Amount  Count_Transaction  \n",
      "0 2018-10-05 05:48:02.608000040                     1467681                 22  \n",
      "1 2018-12-25 11:02:41.269999981                     1269337                 41  \n",
      "2 2019-01-24 09:40:02.000000000                      310915                 30  \n",
      "3 2019-01-16 13:00:03.911000013                      722632                 27  \n",
      "4 2018-11-22 12:53:41.529999970                     1775036                 25  \n",
      "\n",
      "Info dataset:\n",
      "<class 'pandas.core.frame.DataFrame'>\n",
      "RangeIndex: 100000 entries, 0 to 99999\n",
      "Data columns (total 8 columns):\n",
      " #   Column                      Non-Null Count   Dtype         \n",
      "---  ------                      --------------   -----         \n",
      " 0   no                          100000 non-null  int64         \n",
      " 1   Row_Num                     100000 non-null  int64         \n",
      " 2   Customer_ID                 100000 non-null  int64         \n",
      " 3   Product                     100000 non-null  object        \n",
      " 4   First_Transaction           100000 non-null  datetime64[ns]\n",
      " 5   Last_Transaction            100000 non-null  datetime64[ns]\n",
      " 6   Average_Transaction_Amount  100000 non-null  int64         \n",
      " 7   Count_Transaction           100000 non-null  int64         \n",
      "dtypes: datetime64[ns](2), int64(5), object(1)\n",
      "memory usage: 6.1+ MB\n",
      "None\n"
     ]
    }
   ],
   "source": [
    "#DATA CLEANSING (MENGUBAH KOLOM TRANSAKSI KEDALAM BENTUK DATETIME)\n",
    "# Kolom First_Transaction\n",
    "df['First_Transaction'] = pd.to_datetime(df['First_Transaction']/1000, unit='s', origin='1970-01-01')\n",
    "# Kolom Last_Transaction\n",
    "df['Last_Transaction'] = pd.to_datetime(df['Last_Transaction']/1000, unit='s', origin='1970-01-01')\n",
    "\n",
    "print('Lima data teratas:')\n",
    "print(df.head())\n",
    "\n",
    "print('\\nInfo dataset:')\n",
    "print(df.info())"
   ]
  },
  {
   "cell_type": "code",
   "execution_count": 42,
   "metadata": {},
   "outputs": [
    {
     "name": "stdout",
     "output_type": "stream",
     "text": [
      "2019-02-01 23:57:57.286000013\n",
      "Lima data teratas:\n",
      "   no  Row_Num  Customer_ID Product             First_Transaction  \\\n",
      "0   1        1        29531   Jaket 2016-06-19 02:44:34.395999908   \n",
      "1   2        2        29531  Sepatu 2014-07-23 01:02:11.493999958   \n",
      "2   3        3       141526     Tas 2017-04-28 03:12:27.000000000   \n",
      "3   4        4       141526   Jaket 2017-04-28 06:52:52.546999931   \n",
      "4   5        5        37545  Sepatu 2015-04-16 10:01:38.530999899   \n",
      "\n",
      "               Last_Transaction  Average_Transaction_Amount  \\\n",
      "0 2018-10-05 05:48:02.608000040                     1467681   \n",
      "1 2018-12-25 11:02:41.269999981                     1269337   \n",
      "2 2019-01-24 09:40:02.000000000                      310915   \n",
      "3 2019-01-16 13:00:03.911000013                      722632   \n",
      "4 2018-11-22 12:53:41.529999970                     1775036   \n",
      "\n",
      "   Count_Transaction is_churn  \n",
      "0                 22    False  \n",
      "1                 41    False  \n",
      "2                 30    False  \n",
      "3                 27    False  \n",
      "4                 25    False  \n",
      "\n",
      "Info dataset:\n",
      "<class 'pandas.core.frame.DataFrame'>\n",
      "RangeIndex: 100000 entries, 0 to 99999\n",
      "Data columns (total 9 columns):\n",
      " #   Column                      Non-Null Count   Dtype         \n",
      "---  ------                      --------------   -----         \n",
      " 0   no                          100000 non-null  int64         \n",
      " 1   Row_Num                     100000 non-null  int64         \n",
      " 2   Customer_ID                 100000 non-null  int64         \n",
      " 3   Product                     100000 non-null  object        \n",
      " 4   First_Transaction           100000 non-null  datetime64[ns]\n",
      " 5   Last_Transaction            100000 non-null  datetime64[ns]\n",
      " 6   Average_Transaction_Amount  100000 non-null  int64         \n",
      " 7   Count_Transaction           100000 non-null  int64         \n",
      " 8   is_churn                    100000 non-null  object        \n",
      "dtypes: datetime64[ns](2), int64(5), object(2)\n",
      "memory usage: 6.9+ MB\n",
      "None\n"
     ]
    }
   ],
   "source": [
    "#CHURN CUSTOMER\n",
    "# Pengecekan transaksaksi terakhir dalam dataset\n",
    "print(max(df['Last_Transaction']))\n",
    "\n",
    "# Klasifikasikan customer yang berstatus churn atau tidak dengan boolean\n",
    "df.loc[df['Last_Transaction'] <= '2018-08-01', 'is_churn'] = True\n",
    "df.loc[df['Last_Transaction'] > '2018-08-01', 'is_churn'] = False\n",
    "\n",
    "print('Lima data teratas:')\n",
    "print(df.head())\n",
    "\n",
    "print('\\nInfo dataset:')\n",
    "print(df.info())"
   ]
  },
  {
   "cell_type": "code",
   "execution_count": 43,
   "metadata": {},
   "outputs": [
    {
     "name": "stdout",
     "output_type": "stream",
     "text": [
      "   Customer_ID Product             First_Transaction  \\\n",
      "0        29531   Jaket 2016-06-19 02:44:34.395999908   \n",
      "1        29531  Sepatu 2014-07-23 01:02:11.493999958   \n",
      "2       141526     Tas 2017-04-28 03:12:27.000000000   \n",
      "3       141526   Jaket 2017-04-28 06:52:52.546999931   \n",
      "4        37545  Sepatu 2015-04-16 10:01:38.530999899   \n",
      "\n",
      "               Last_Transaction  Average_Transaction_Amount  \\\n",
      "0 2018-10-05 05:48:02.608000040                     1467681   \n",
      "1 2018-12-25 11:02:41.269999981                     1269337   \n",
      "2 2019-01-24 09:40:02.000000000                      310915   \n",
      "3 2019-01-16 13:00:03.911000013                      722632   \n",
      "4 2018-11-22 12:53:41.529999970                     1775036   \n",
      "\n",
      "   Count_Transaction is_churn  \n",
      "0                 22    False  \n",
      "1                 41    False  \n",
      "2                 30    False  \n",
      "3                 27    False  \n",
      "4                 25    False  \n"
     ]
    }
   ],
   "source": [
    "#MENGHAPUS KOLOM YANG TIDAK DIPERLUKAN\n",
    "# Hapus kolom-kolom yang tidak diperlukan\n",
    "#df.drop(['no'], axis=1, inplace=True)\n",
    "#df.drop(['Row_Num'], axis=1, inplace=True)\n",
    "\n",
    "#ATAU\n",
    "# Hapus kolom-kolom yang tidak diperlukan\n",
    "del df['no']\n",
    "del df['Row_Num']\n",
    "\n",
    "# Cetak lima data teratas\n",
    "print(df.head())"
   ]
  },
  {
   "cell_type": "code",
   "execution_count": 44,
   "metadata": {},
   "outputs": [
    {
     "data": {
      "image/png": "[encoded data removed]",
      "text/plain": [
       "<Figure size 432x288 with 1 Axes>"
      ]
     },
     "metadata": {
      "needs_background": "light"
     },
     "output_type": "display_data"
    }
   ],
   "source": [
    "#CUSTOMER ACQUISITION BY YEAR\n",
    "import matplotlib.pyplot as plt\n",
    "\n",
    "# Kolom tahun transaksi pertama\n",
    "df['Year_First_Transaction'] = df['First_Transaction'].dt.year\n",
    "# Kolom tahun transaksi terakhir\n",
    "df['Year_Last_Transaction'] = df['Last_Transaction'].dt.year\n",
    "\n",
    "df_year = df.groupby(['Year_First_Transaction'])['Customer_ID'].count()\n",
    "df_year.plot(x='Year_First_Transaction', y='Customer_ID', kind='bar', title='Graph of Customer Acquisition')\n",
    "plt.xlabel('Year_First_Transaction')\n",
    "plt.ylabel('Num_of_Customer')\n",
    "plt.tight_layout()\n",
    "plt.show()"
   ]
  },
  {
   "cell_type": "code",
   "execution_count": 45,
   "metadata": {},
   "outputs": [
    {
     "data": {
      "image/png": "[encoded data removed]",
      "text/plain": [
       "<Figure size 432x288 with 1 Axes>"
      ]
     },
     "metadata": {
      "needs_background": "light"
     },
     "output_type": "display_data"
    }
   ],
   "source": [
    "#TRANSACTION BY YEAR\n",
    "import matplotlib.pyplot as plt\n",
    "\n",
    "plt.clf()\n",
    "df_year = df.groupby(['Year_First_Transaction'])['Count_Transaction'].sum()\n",
    "df_year.plot(x='Year_First_Transaction', y='Count_Transaction', kind='bar', title='Graph of Transaction Customer')\n",
    "plt.xlabel('Year_First_Transaction')\n",
    "plt.ylabel('Num_of_Transaction')\n",
    "plt.tight_layout()\n",
    "plt.show()"
   ]
  },
  {
   "cell_type": "code",
   "execution_count": 46,
   "metadata": {},
   "outputs": [
    {
     "data": {
      "image/png": "[encoded data removed]",
      "text/plain": [
       "<Figure size 432x288 with 1 Axes>"
      ]
     },
     "metadata": {
      "needs_background": "light"
     },
     "output_type": "display_data"
    }
   ],
   "source": [
    "#AVERAGE TRANSACTION AMOUNT BY YEAR\n",
    "import matplotlib.pyplot as plt\n",
    "import seaborn as sns\n",
    "\n",
    "plt.clf()\n",
    "sns.pointplot(data = df.groupby(['Product','Year_First_Transaction']).mean().reset_index(), \n",
    "              x='Year_First_Transaction',\n",
    "              y='Average_Transaction_Amount',\n",
    "              hue='Product')\n",
    "plt.tight_layout()\n",
    "plt.show()"
   ]
  },
  {
   "cell_type": "code",
   "execution_count": 47,
   "metadata": {},
   "outputs": [
    {
     "name": "stdout",
     "output_type": "stream",
     "text": [
      "df_piv:\n",
      "\n",
      " Product   Baju  Jaket  Sepatu   Tas\n",
      "is_churn                           \n",
      "False     1268  11123   16064  4976\n",
      "True      2144  23827   33090  7508\n",
      "\n",
      " plot product:\n",
      "\n",
      " Index(['Tas', 'Sepatu', 'Jaket', 'Baju'], dtype='object', name='Product')\n",
      "\n",
      "df_piv baru:\n",
      "\n",
      " Product    Tas  Sepatu  Jaket  Baju\n",
      "is_churn                           \n",
      "False     4976   16064  11123  1268\n",
      "True      7508   33090  23827  2144\n"
     ]
    },
    {
     "data": {
      "text/plain": [
       "<Figure size 432x288 with 0 Axes>"
      ]
     },
     "metadata": {},
     "output_type": "display_data"
    },
    {
     "data": {
      "image/png": "[encoded data removed]",
      "text/plain": [
       "<Figure size 720x504 with 4 Axes>"
      ]
     },
     "metadata": {},
     "output_type": "display_data"
    }
   ],
   "source": [
    "#PROPORSI CHURNED CUSTOMER UNTUK SETIAP PRODUK\n",
    "import matplotlib.pyplot as plt\n",
    "\n",
    "plt.clf()\n",
    "# Melakukan pivot data dengan pivot_table\n",
    "df_piv = df.pivot_table(index='is_churn', \n",
    "                        columns='Product',\n",
    "                        values='Customer_ID', \n",
    "                        aggfunc='count', \n",
    "                        fill_value=0)\n",
    "print('df_piv:\\n\\n', df_piv.head())\n",
    "\n",
    "# Mendapatkan Proportion Churn by Product\n",
    "plot_product = df_piv.count().sort_values(ascending=False).head(5).index\n",
    "print('\\n plot product:\\n\\n', plot_product)\n",
    "\n",
    "# Plot pie chartnya\n",
    "df_piv = df_piv.reindex(columns=plot_product) #reindex agar urutan nya dari yang terbesar\n",
    "print('\\ndf_piv baru:\\n\\n', df_piv)\n",
    "\n",
    "df_piv.plot.pie(subplots=True,\n",
    "                figsize=(10, 7),\n",
    "                layout=(-1, 2),\n",
    "                autopct='%1.0f%%',\n",
    "                title='Proportion Churn by Product')\n",
    "plt.tight_layout()\n",
    "plt.show()"
   ]
  },
  {
   "cell_type": "code",
   "execution_count": 48,
   "metadata": {},
   "outputs": [
    {
     "data": {
      "image/png": "[encoded data removed]",
      "text/plain": [
       "<Figure size 432x288 with 1 Axes>"
      ]
     },
     "metadata": {
      "needs_background": "light"
     },
     "output_type": "display_data"
    }
   ],
   "source": [
    "#DISTRIBUSI KATEGORISASI COUNT TRANSACTION\n",
    "import matplotlib.pyplot as plt\n",
    "\n",
    "plt.clf()\n",
    "# Kategorisasi jumlah transaksi\n",
    "def func(row):\n",
    "    if row['Count_Transaction'] == 1:\n",
    "        val = '1. 1'\n",
    "    elif (row['Count_Transaction'] > 1 and row['Count_Transaction'] <= 3):\n",
    "        val ='2. 2 - 3'\n",
    "    elif (row['Count_Transaction'] > 3 and row['Count_Transaction'] <= 6 ):\n",
    "        val ='3. 4 - 6'\n",
    "    elif (row['Count_Transaction'] > 6 and row['Count_Transaction'] <= 10):\n",
    "        val ='4. 7 - 10'\n",
    "    else:\n",
    "        val ='5. > 10'\n",
    "    return val\n",
    "# Tambahkan kolom baru\n",
    "df['Count_Transaction_Group'] = df.apply(func, axis=1)\n",
    "#df.head()\n",
    "df_year = df.groupby(['Count_Transaction_Group'])['Customer_ID'].count()\n",
    "df_year.plot(x='Count_Transaction_Group', y='Customer_ID', kind='bar', title='Customer Distribution by Count Transaction Group')\n",
    "plt.xlabel('Count_Transaction_Group')\n",
    "plt.ylabel('Num_of_Customer')\n",
    "plt.tight_layout()\n",
    "plt.show()"
   ]
  },
  {
   "cell_type": "code",
   "execution_count": 52,
   "metadata": {},
   "outputs": [
    {
     "data": {
      "image/png": "[encoded data removed]",
      "text/plain": [
       "<Figure size 432x288 with 1 Axes>"
      ]
     },
     "metadata": {
      "needs_background": "light"
     },
     "output_type": "display_data"
    }
   ],
   "source": [
    "#DISTRIBUSI KATEGORISASI AVERAGE TRANSACTION\n",
    "import matplotlib.pyplot as plt\n",
    "\n",
    "plt.clf()\n",
    "# Kategorisasi rata-rata besar transaksi\n",
    "def f(row):\n",
    "    if (row['Average_Transaction_Amount'] >= 100000 and row['Average_Transaction_Amount'] <= 250000):\n",
    "        val ='1. 100.000 - 250.000'\n",
    "    elif (row['Average_Transaction_Amount'] > 250000 and row['Average_Transaction_Amount'] <= 500000):\n",
    "        val ='2. > 250.000 - 500.000'\n",
    "    elif (row['Average_Transaction_Amount'] > 500000 and row['Average_Transaction_Amount'] <= 750000):\n",
    "        val ='3. > 500.000 - 750.000'\n",
    "    elif (row['Average_Transaction_Amount'] > 750000 and row['Average_Transaction_Amount'] <= 1000000):\n",
    "        val ='4. > 750.000 - 1.000.000'\n",
    "    elif (row['Average_Transaction_Amount'] > 1000000 and row['Average_Transaction_Amount'] <= 2500000):\n",
    "        val ='5. > 1.000.000 - 2.500.000'\n",
    "    elif (row['Average_Transaction_Amount'] > 2500000 and row['Average_Transaction_Amount'] <= 5000000):\n",
    "        val ='6. > 2.500.000 - 5.000.000'\n",
    "    elif (row['Average_Transaction_Amount'] > 5000000 and row['Average_Transaction_Amount'] <= 10000000):\n",
    "        val ='7. > 5.000.0000 - 10.000.000' \n",
    "    else:\n",
    "        val ='8. > 10.000.000'\n",
    "    return val\n",
    "# Tambahkan kolom baru\n",
    "df['Average_Transaction_Amount_Group'] = df.apply(f, axis=1)\n",
    "\n",
    "df_year = df.groupby(['Average_Transaction_Amount_Group'])['Customer_ID'].count()\n",
    "df_year.plot(x='Average_Transaction_Amount_Group', y='Customer_ID', kind='bar', title='Customer Distribution by Average Transaction Amount Group')\n",
    "plt.xlabel('Average_Transaction_Amount_Group')\n",
    "plt.ylabel('Num_of_Customer')\n",
    "plt.tight_layout()\n",
    "plt.show()"
   ]
  },
  {
   "cell_type": "code",
   "execution_count": 53,
   "metadata": {},
   "outputs": [
    {
     "data": {
      "text/html": [
       "<div>\n",
       "<style scoped>\n",
       "    .dataframe tbody tr th:only-of-type {\n",
       "        vertical-align: middle;\n",
       "    }\n",
       "\n",
       "    .dataframe tbody tr th {\n",
       "        vertical-align: top;\n",
       "    }\n",
       "\n",
       "    .dataframe thead th {\n",
       "        text-align: right;\n",
       "    }\n",
       "</style>\n",
       "<table border=\"1\" class=\"dataframe\">\n",
       "  <thead>\n",
       "    <tr style=\"text-align: right;\">\n",
       "      <th></th>\n",
       "      <th>Customer_ID</th>\n",
       "      <th>Product</th>\n",
       "      <th>First_Transaction</th>\n",
       "      <th>Last_Transaction</th>\n",
       "      <th>Average_Transaction_Amount</th>\n",
       "      <th>Count_Transaction</th>\n",
       "      <th>is_churn</th>\n",
       "      <th>Year_First_Transaction</th>\n",
       "      <th>Year_Last_Transaction</th>\n",
       "      <th>Count_Transaction_Group</th>\n",
       "      <th>Average_Transaction_Amount_Group</th>\n",
       "      <th>Year_Diff</th>\n",
       "    </tr>\n",
       "  </thead>\n",
       "  <tbody>\n",
       "    <tr>\n",
       "      <th>0</th>\n",
       "      <td>29531</td>\n",
       "      <td>Jaket</td>\n",
       "      <td>2016-06-19 02:44:34.395999908</td>\n",
       "      <td>2018-10-05 05:48:02.608000040</td>\n",
       "      <td>1467681</td>\n",
       "      <td>22</td>\n",
       "      <td>False</td>\n",
       "      <td>2016</td>\n",
       "      <td>2018</td>\n",
       "      <td>5. &gt; 10</td>\n",
       "      <td>5. &gt; 1.000.000 - 2.500.000</td>\n",
       "      <td>2</td>\n",
       "    </tr>\n",
       "    <tr>\n",
       "      <th>1</th>\n",
       "      <td>29531</td>\n",
       "      <td>Sepatu</td>\n",
       "      <td>2014-07-23 01:02:11.493999958</td>\n",
       "      <td>2018-12-25 11:02:41.269999981</td>\n",
       "      <td>1269337</td>\n",
       "      <td>41</td>\n",
       "      <td>False</td>\n",
       "      <td>2014</td>\n",
       "      <td>2018</td>\n",
       "      <td>5. &gt; 10</td>\n",
       "      <td>5. &gt; 1.000.000 - 2.500.000</td>\n",
       "      <td>4</td>\n",
       "    </tr>\n",
       "    <tr>\n",
       "      <th>2</th>\n",
       "      <td>141526</td>\n",
       "      <td>Tas</td>\n",
       "      <td>2017-04-28 03:12:27.000000000</td>\n",
       "      <td>2019-01-24 09:40:02.000000000</td>\n",
       "      <td>310915</td>\n",
       "      <td>30</td>\n",
       "      <td>False</td>\n",
       "      <td>2017</td>\n",
       "      <td>2019</td>\n",
       "      <td>5. &gt; 10</td>\n",
       "      <td>2. &gt; 250.000 - 500.000</td>\n",
       "      <td>2</td>\n",
       "    </tr>\n",
       "    <tr>\n",
       "      <th>3</th>\n",
       "      <td>141526</td>\n",
       "      <td>Jaket</td>\n",
       "      <td>2017-04-28 06:52:52.546999931</td>\n",
       "      <td>2019-01-16 13:00:03.911000013</td>\n",
       "      <td>722632</td>\n",
       "      <td>27</td>\n",
       "      <td>False</td>\n",
       "      <td>2017</td>\n",
       "      <td>2019</td>\n",
       "      <td>5. &gt; 10</td>\n",
       "      <td>3. &gt; 500.000 - 750.000</td>\n",
       "      <td>2</td>\n",
       "    </tr>\n",
       "    <tr>\n",
       "      <th>4</th>\n",
       "      <td>37545</td>\n",
       "      <td>Sepatu</td>\n",
       "      <td>2015-04-16 10:01:38.530999899</td>\n",
       "      <td>2018-11-22 12:53:41.529999970</td>\n",
       "      <td>1775036</td>\n",
       "      <td>25</td>\n",
       "      <td>False</td>\n",
       "      <td>2015</td>\n",
       "      <td>2018</td>\n",
       "      <td>5. &gt; 10</td>\n",
       "      <td>5. &gt; 1.000.000 - 2.500.000</td>\n",
       "      <td>3</td>\n",
       "    </tr>\n",
       "  </tbody>\n",
       "</table>\n",
       "</div>"
      ],
      "text/plain": [
       "   Customer_ID Product             First_Transaction  \\\n",
       "0        29531   Jaket 2016-06-19 02:44:34.395999908   \n",
       "1        29531  Sepatu 2014-07-23 01:02:11.493999958   \n",
       "2       141526     Tas 2017-04-28 03:12:27.000000000   \n",
       "3       141526   Jaket 2017-04-28 06:52:52.546999931   \n",
       "4        37545  Sepatu 2015-04-16 10:01:38.530999899   \n",
       "\n",
       "               Last_Transaction  Average_Transaction_Amount  \\\n",
       "0 2018-10-05 05:48:02.608000040                     1467681   \n",
       "1 2018-12-25 11:02:41.269999981                     1269337   \n",
       "2 2019-01-24 09:40:02.000000000                      310915   \n",
       "3 2019-01-16 13:00:03.911000013                      722632   \n",
       "4 2018-11-22 12:53:41.529999970                     1775036   \n",
       "\n",
       "   Count_Transaction is_churn  Year_First_Transaction  Year_Last_Transaction  \\\n",
       "0                 22    False                    2016                   2018   \n",
       "1                 41    False                    2014                   2018   \n",
       "2                 30    False                    2017                   2019   \n",
       "3                 27    False                    2017                   2019   \n",
       "4                 25    False                    2015                   2018   \n",
       "\n",
       "  Count_Transaction_Group Average_Transaction_Amount_Group  Year_Diff  \n",
       "0                 5. > 10       5. > 1.000.000 - 2.500.000          2  \n",
       "1                 5. > 10       5. > 1.000.000 - 2.500.000          4  \n",
       "2                 5. > 10           2. > 250.000 - 500.000          2  \n",
       "3                 5. > 10           3. > 500.000 - 750.000          2  \n",
       "4                 5. > 10       5. > 1.000.000 - 2.500.000          3  "
      ]
     },
     "execution_count": 53,
     "metadata": {},
     "output_type": "execute_result"
    }
   ],
   "source": [
    "#FEATURE COLUMNS AND TARGET\n",
    "# Feature column: Year_Diff\n",
    "df['Year_Diff'] =  df['Year_Last_Transaction'] - df['Year_First_Transaction']\n",
    "\n",
    "# Nama-nama feature columns\n",
    "feature_columns = ['Average_Transaction_Amount', 'Count_Transaction', 'Year_Diff']\n",
    "\n",
    "# Features variable\n",
    "X = df[feature_columns] \n",
    "\n",
    "# Target variable\n",
    "y = df['is_churn']\n",
    "\n",
    "df.head()"
   ]
  },
  {
   "cell_type": "code",
   "execution_count": 54,
   "metadata": {},
   "outputs": [],
   "source": [
    "#SPLIT X DAN y KE DALAM BAGIAN TRAINING DAN TESTING\n",
    "from sklearn.model_selection import train_test_split\n",
    "\n",
    "X_train, X_test, y_train, y_test = train_test_split(X, y, test_size=0.25, random_state=0)"
   ]
  },
  {
   "cell_type": "code",
   "execution_count": 57,
   "metadata": {},
   "outputs": [
    {
     "ename": "ValueError",
     "evalue": "Unknown label type: 'unknown'",
     "output_type": "error",
     "traceback": [
      "\u001b[1;31m---------------------------------------------------------------------------\u001b[0m",
      "\u001b[1;31mValueError\u001b[0m                                Traceback (most recent call last)",
      "\u001b[1;32m<ipython-input-57-366f6108f96b>\u001b[0m in \u001b[0;36m<module>\u001b[1;34m\u001b[0m\n\u001b[0;32m      7\u001b[0m \u001b[1;33m\u001b[0m\u001b[0m\n\u001b[0;32m      8\u001b[0m \u001b[1;31m# fit the model with data\u001b[0m\u001b[1;33m\u001b[0m\u001b[1;33m\u001b[0m\u001b[1;33m\u001b[0m\u001b[0m\n\u001b[1;32m----> 9\u001b[1;33m \u001b[0mlogreg\u001b[0m\u001b[1;33m.\u001b[0m\u001b[0mfit\u001b[0m\u001b[1;33m(\u001b[0m\u001b[0mX_train\u001b[0m\u001b[1;33m,\u001b[0m \u001b[0my_train\u001b[0m\u001b[1;33m)\u001b[0m\u001b[1;33m\u001b[0m\u001b[1;33m\u001b[0m\u001b[0m\n\u001b[0m\u001b[0;32m     10\u001b[0m \u001b[1;33m\u001b[0m\u001b[0m\n\u001b[0;32m     11\u001b[0m \u001b[1;31m# Predict model\u001b[0m\u001b[1;33m\u001b[0m\u001b[1;33m\u001b[0m\u001b[1;33m\u001b[0m\u001b[0m\n",
      "\u001b[1;32m~\\anaconda3\\lib\\site-packages\\sklearn\\linear_model\\_logistic.py\u001b[0m in \u001b[0;36mfit\u001b[1;34m(self, X, y, sample_weight)\u001b[0m\n\u001b[0;32m   1343\u001b[0m                                    \u001b[0morder\u001b[0m\u001b[1;33m=\u001b[0m\u001b[1;34m\"C\"\u001b[0m\u001b[1;33m,\u001b[0m\u001b[1;33m\u001b[0m\u001b[1;33m\u001b[0m\u001b[0m\n\u001b[0;32m   1344\u001b[0m                                    accept_large_sparse=solver != 'liblinear')\n\u001b[1;32m-> 1345\u001b[1;33m         \u001b[0mcheck_classification_targets\u001b[0m\u001b[1;33m(\u001b[0m\u001b[0my\u001b[0m\u001b[1;33m)\u001b[0m\u001b[1;33m\u001b[0m\u001b[1;33m\u001b[0m\u001b[0m\n\u001b[0m\u001b[0;32m   1346\u001b[0m         \u001b[0mself\u001b[0m\u001b[1;33m.\u001b[0m\u001b[0mclasses_\u001b[0m \u001b[1;33m=\u001b[0m \u001b[0mnp\u001b[0m\u001b[1;33m.\u001b[0m\u001b[0munique\u001b[0m\u001b[1;33m(\u001b[0m\u001b[0my\u001b[0m\u001b[1;33m)\u001b[0m\u001b[1;33m\u001b[0m\u001b[1;33m\u001b[0m\u001b[0m\n\u001b[0;32m   1347\u001b[0m \u001b[1;33m\u001b[0m\u001b[0m\n",
      "\u001b[1;32m~\\anaconda3\\lib\\site-packages\\sklearn\\utils\\multiclass.py\u001b[0m in \u001b[0;36mcheck_classification_targets\u001b[1;34m(y)\u001b[0m\n\u001b[0;32m    170\u001b[0m     if y_type not in ['binary', 'multiclass', 'multiclass-multioutput',\n\u001b[0;32m    171\u001b[0m                       'multilabel-indicator', 'multilabel-sequences']:\n\u001b[1;32m--> 172\u001b[1;33m         \u001b[1;32mraise\u001b[0m \u001b[0mValueError\u001b[0m\u001b[1;33m(\u001b[0m\u001b[1;34m\"Unknown label type: %r\"\u001b[0m \u001b[1;33m%\u001b[0m \u001b[0my_type\u001b[0m\u001b[1;33m)\u001b[0m\u001b[1;33m\u001b[0m\u001b[1;33m\u001b[0m\u001b[0m\n\u001b[0m\u001b[0;32m    173\u001b[0m \u001b[1;33m\u001b[0m\u001b[0m\n\u001b[0;32m    174\u001b[0m \u001b[1;33m\u001b[0m\u001b[0m\n",
      "\u001b[1;31mValueError\u001b[0m: Unknown label type: 'unknown'"
     ]
    }
   ],
   "source": [
    "#TRAIN, PREDICT, EVALUATE\n",
    "from sklearn.linear_model import LogisticRegression\n",
    "from sklearn.metrics import confusion_matrix\n",
    "\n",
    "# Inisiasi model logreg\n",
    "logreg = LogisticRegression()\n",
    "\n",
    "# fit the model with data\n",
    "logreg.fit(X_train, y_train)\n",
    "\n",
    "# Predict model\n",
    "y_pred = logreg.predict(X_test)\n",
    "\n",
    "# Evaluasi model menggunakan confusion matrix\n",
    "cnf_matrix = confusion_matrix(y_test, y_pred)\n",
    "print('Confusion Matrix:\\n', cnf_matrix)"
   ]
  },
  {
   "cell_type": "code",
   "execution_count": 58,
   "metadata": {},
   "outputs": [
    {
     "ename": "NameError",
     "evalue": "name 'cnf_matrix' is not defined",
     "output_type": "error",
     "traceback": [
      "\u001b[1;31m---------------------------------------------------------------------------\u001b[0m",
      "\u001b[1;31mNameError\u001b[0m                                 Traceback (most recent call last)",
      "\u001b[1;32m<ipython-input-58-78db00690af7>\u001b[0m in \u001b[0;36m<module>\u001b[1;34m\u001b[0m\n\u001b[0;32m     15\u001b[0m \u001b[1;33m\u001b[0m\u001b[0m\n\u001b[0;32m     16\u001b[0m \u001b[1;31m# create heatmap\u001b[0m\u001b[1;33m\u001b[0m\u001b[1;33m\u001b[0m\u001b[1;33m\u001b[0m\u001b[0m\n\u001b[1;32m---> 17\u001b[1;33m \u001b[0msns\u001b[0m\u001b[1;33m.\u001b[0m\u001b[0mheatmap\u001b[0m\u001b[1;33m(\u001b[0m\u001b[0mpd\u001b[0m\u001b[1;33m.\u001b[0m\u001b[0mDataFrame\u001b[0m\u001b[1;33m(\u001b[0m\u001b[0mcnf_matrix\u001b[0m\u001b[1;33m)\u001b[0m\u001b[1;33m,\u001b[0m \u001b[0mannot\u001b[0m\u001b[1;33m=\u001b[0m\u001b[1;32mTrue\u001b[0m\u001b[1;33m,\u001b[0m \u001b[0mcmap\u001b[0m\u001b[1;33m=\u001b[0m\u001b[1;34m'YlGnBu'\u001b[0m\u001b[1;33m,\u001b[0m \u001b[0mfmt\u001b[0m\u001b[1;33m=\u001b[0m\u001b[1;34m'g'\u001b[0m\u001b[1;33m)\u001b[0m\u001b[1;33m\u001b[0m\u001b[1;33m\u001b[0m\u001b[0m\n\u001b[0m\u001b[0;32m     18\u001b[0m \u001b[0max\u001b[0m\u001b[1;33m.\u001b[0m\u001b[0mxaxis\u001b[0m\u001b[1;33m.\u001b[0m\u001b[0mset_label_position\u001b[0m\u001b[1;33m(\u001b[0m\u001b[1;34m'top'\u001b[0m\u001b[1;33m)\u001b[0m\u001b[1;33m\u001b[0m\u001b[1;33m\u001b[0m\u001b[0m\n\u001b[0;32m     19\u001b[0m \u001b[0mplt\u001b[0m\u001b[1;33m.\u001b[0m\u001b[0mtitle\u001b[0m\u001b[1;33m(\u001b[0m\u001b[1;34m'Confusion matrix'\u001b[0m\u001b[1;33m,\u001b[0m \u001b[0my\u001b[0m\u001b[1;33m=\u001b[0m\u001b[1;36m1.1\u001b[0m\u001b[1;33m)\u001b[0m\u001b[1;33m\u001b[0m\u001b[1;33m\u001b[0m\u001b[0m\n",
      "\u001b[1;31mNameError\u001b[0m: name 'cnf_matrix' is not defined"
     ]
    },
    {
     "data": {
      "text/plain": [
       "<Figure size 432x288 with 0 Axes>"
      ]
     },
     "metadata": {},
     "output_type": "display_data"
    },
    {
     "data": {
      "image/png": "[encoded data removed]",
      "text/plain": [
       "<Figure size 432x288 with 1 Axes>"
      ]
     },
     "metadata": {
      "needs_background": "light"
     },
     "output_type": "display_data"
    }
   ],
   "source": [
    "#VISUALISASI CONFUSION MATRIX\n",
    "# import required modules\n",
    "import numpy as np\n",
    "import matplotlib.pyplot as plt\n",
    "import seaborn as sns\n",
    "\n",
    "plt.clf()\n",
    "# name  of classes\n",
    "class_names = [0, 1] \n",
    "fig, ax = plt.subplots()\n",
    "\n",
    "tick_marks = np.arange(len(class_names))\n",
    "plt.xticks(tick_marks, class_names)\n",
    "plt.yticks(tick_marks, class_names)\n",
    "\n",
    "# create heatmap\n",
    "sns.heatmap(pd.DataFrame(cnf_matrix), annot=True, cmap='YlGnBu', fmt='g')\n",
    "ax.xaxis.set_label_position('top')\n",
    "plt.title('Confusion matrix', y=1.1)\n",
    "plt.ylabel('Actual')\n",
    "plt.xlabel('Predicted')\n",
    "plt.tight_layout()\n",
    "plt.show()"
   ]
  },
  {
   "cell_type": "code",
   "execution_count": 59,
   "metadata": {},
   "outputs": [
    {
     "ename": "ValueError",
     "evalue": "Classification metrics can't handle a mix of unknown and continuous targets",
     "output_type": "error",
     "traceback": [
      "\u001b[1;31m---------------------------------------------------------------------------\u001b[0m",
      "\u001b[1;31mValueError\u001b[0m                                Traceback (most recent call last)",
      "\u001b[1;32m<ipython-input-59-3d0b87ee3439>\u001b[0m in \u001b[0;36m<module>\u001b[1;34m\u001b[0m\n\u001b[0;32m      3\u001b[0m \u001b[1;33m\u001b[0m\u001b[0m\n\u001b[0;32m      4\u001b[0m \u001b[1;31m#Menghitung Accuracy, Precision, dan Recall\u001b[0m\u001b[1;33m\u001b[0m\u001b[1;33m\u001b[0m\u001b[1;33m\u001b[0m\u001b[0m\n\u001b[1;32m----> 5\u001b[1;33m \u001b[0mprint\u001b[0m\u001b[1;33m(\u001b[0m\u001b[1;34m'Accuracy :'\u001b[0m\u001b[1;33m,\u001b[0m \u001b[0maccuracy_score\u001b[0m\u001b[1;33m(\u001b[0m\u001b[0my_test\u001b[0m\u001b[1;33m,\u001b[0m \u001b[0my_pred\u001b[0m\u001b[1;33m)\u001b[0m\u001b[1;33m)\u001b[0m\u001b[1;33m\u001b[0m\u001b[1;33m\u001b[0m\u001b[0m\n\u001b[0m\u001b[0;32m      6\u001b[0m \u001b[0mprint\u001b[0m\u001b[1;33m(\u001b[0m\u001b[1;34m'Precision:'\u001b[0m\u001b[1;33m,\u001b[0m \u001b[0mprecision_score\u001b[0m\u001b[1;33m(\u001b[0m\u001b[0my_test\u001b[0m\u001b[1;33m,\u001b[0m\u001b[0my_pred\u001b[0m\u001b[1;33m,\u001b[0m \u001b[0maverage\u001b[0m\u001b[1;33m=\u001b[0m\u001b[1;34m'micro'\u001b[0m\u001b[1;33m)\u001b[0m\u001b[1;33m)\u001b[0m\u001b[1;33m\u001b[0m\u001b[1;33m\u001b[0m\u001b[0m\n\u001b[0;32m      7\u001b[0m \u001b[0mprint\u001b[0m\u001b[1;33m(\u001b[0m\u001b[1;34m'Recall   :'\u001b[0m\u001b[1;33m,\u001b[0m \u001b[0mrecall_score\u001b[0m\u001b[1;33m(\u001b[0m\u001b[0my_test\u001b[0m\u001b[1;33m,\u001b[0m \u001b[0my_pred\u001b[0m\u001b[1;33m,\u001b[0m \u001b[0maverage\u001b[0m\u001b[1;33m=\u001b[0m\u001b[1;34m'micro'\u001b[0m\u001b[1;33m)\u001b[0m\u001b[1;33m)\u001b[0m\u001b[1;33m\u001b[0m\u001b[1;33m\u001b[0m\u001b[0m\n",
      "\u001b[1;32m~\\anaconda3\\lib\\site-packages\\sklearn\\utils\\validation.py\u001b[0m in \u001b[0;36minner_f\u001b[1;34m(*args, **kwargs)\u001b[0m\n\u001b[0;32m     71\u001b[0m                           FutureWarning)\n\u001b[0;32m     72\u001b[0m         \u001b[0mkwargs\u001b[0m\u001b[1;33m.\u001b[0m\u001b[0mupdate\u001b[0m\u001b[1;33m(\u001b[0m\u001b[1;33m{\u001b[0m\u001b[0mk\u001b[0m\u001b[1;33m:\u001b[0m \u001b[0marg\u001b[0m \u001b[1;32mfor\u001b[0m \u001b[0mk\u001b[0m\u001b[1;33m,\u001b[0m \u001b[0marg\u001b[0m \u001b[1;32min\u001b[0m \u001b[0mzip\u001b[0m\u001b[1;33m(\u001b[0m\u001b[0msig\u001b[0m\u001b[1;33m.\u001b[0m\u001b[0mparameters\u001b[0m\u001b[1;33m,\u001b[0m \u001b[0margs\u001b[0m\u001b[1;33m)\u001b[0m\u001b[1;33m}\u001b[0m\u001b[1;33m)\u001b[0m\u001b[1;33m\u001b[0m\u001b[1;33m\u001b[0m\u001b[0m\n\u001b[1;32m---> 73\u001b[1;33m         \u001b[1;32mreturn\u001b[0m \u001b[0mf\u001b[0m\u001b[1;33m(\u001b[0m\u001b[1;33m**\u001b[0m\u001b[0mkwargs\u001b[0m\u001b[1;33m)\u001b[0m\u001b[1;33m\u001b[0m\u001b[1;33m\u001b[0m\u001b[0m\n\u001b[0m\u001b[0;32m     74\u001b[0m     \u001b[1;32mreturn\u001b[0m \u001b[0minner_f\u001b[0m\u001b[1;33m\u001b[0m\u001b[1;33m\u001b[0m\u001b[0m\n\u001b[0;32m     75\u001b[0m \u001b[1;33m\u001b[0m\u001b[0m\n",
      "\u001b[1;32m~\\anaconda3\\lib\\site-packages\\sklearn\\metrics\\_classification.py\u001b[0m in \u001b[0;36maccuracy_score\u001b[1;34m(y_true, y_pred, normalize, sample_weight)\u001b[0m\n\u001b[0;32m    185\u001b[0m \u001b[1;33m\u001b[0m\u001b[0m\n\u001b[0;32m    186\u001b[0m     \u001b[1;31m# Compute accuracy for each possible representation\u001b[0m\u001b[1;33m\u001b[0m\u001b[1;33m\u001b[0m\u001b[1;33m\u001b[0m\u001b[0m\n\u001b[1;32m--> 187\u001b[1;33m     \u001b[0my_type\u001b[0m\u001b[1;33m,\u001b[0m \u001b[0my_true\u001b[0m\u001b[1;33m,\u001b[0m \u001b[0my_pred\u001b[0m \u001b[1;33m=\u001b[0m \u001b[0m_check_targets\u001b[0m\u001b[1;33m(\u001b[0m\u001b[0my_true\u001b[0m\u001b[1;33m,\u001b[0m \u001b[0my_pred\u001b[0m\u001b[1;33m)\u001b[0m\u001b[1;33m\u001b[0m\u001b[1;33m\u001b[0m\u001b[0m\n\u001b[0m\u001b[0;32m    188\u001b[0m     \u001b[0mcheck_consistent_length\u001b[0m\u001b[1;33m(\u001b[0m\u001b[0my_true\u001b[0m\u001b[1;33m,\u001b[0m \u001b[0my_pred\u001b[0m\u001b[1;33m,\u001b[0m \u001b[0msample_weight\u001b[0m\u001b[1;33m)\u001b[0m\u001b[1;33m\u001b[0m\u001b[1;33m\u001b[0m\u001b[0m\n\u001b[0;32m    189\u001b[0m     \u001b[1;32mif\u001b[0m \u001b[0my_type\u001b[0m\u001b[1;33m.\u001b[0m\u001b[0mstartswith\u001b[0m\u001b[1;33m(\u001b[0m\u001b[1;34m'multilabel'\u001b[0m\u001b[1;33m)\u001b[0m\u001b[1;33m:\u001b[0m\u001b[1;33m\u001b[0m\u001b[1;33m\u001b[0m\u001b[0m\n",
      "\u001b[1;32m~\\anaconda3\\lib\\site-packages\\sklearn\\metrics\\_classification.py\u001b[0m in \u001b[0;36m_check_targets\u001b[1;34m(y_true, y_pred)\u001b[0m\n\u001b[0;32m     88\u001b[0m \u001b[1;33m\u001b[0m\u001b[0m\n\u001b[0;32m     89\u001b[0m     \u001b[1;32mif\u001b[0m \u001b[0mlen\u001b[0m\u001b[1;33m(\u001b[0m\u001b[0my_type\u001b[0m\u001b[1;33m)\u001b[0m \u001b[1;33m>\u001b[0m \u001b[1;36m1\u001b[0m\u001b[1;33m:\u001b[0m\u001b[1;33m\u001b[0m\u001b[1;33m\u001b[0m\u001b[0m\n\u001b[1;32m---> 90\u001b[1;33m         raise ValueError(\"Classification metrics can't handle a mix of {0} \"\n\u001b[0m\u001b[0;32m     91\u001b[0m                          \"and {1} targets\".format(type_true, type_pred))\n\u001b[0;32m     92\u001b[0m \u001b[1;33m\u001b[0m\u001b[0m\n",
      "\u001b[1;31mValueError\u001b[0m: Classification metrics can't handle a mix of unknown and continuous targets"
     ]
    }
   ],
   "source": [
    "#ACCURACY, PRECISION, RECALL\n",
    "from sklearn.metrics import accuracy_score, precision_score, recall_score\n",
    "\n",
    "#Menghitung Accuracy, Precision, dan Recall\n",
    "print('Accuracy :', accuracy_score(y_test, y_pred))\n",
    "print('Precision:', precision_score(y_test,y_pred, average='micro'))\n",
    "print('Recall   :', recall_score(y_test, y_pred, average='micro'))"
   ]
  },
  {
   "cell_type": "code",
   "execution_count": null,
   "metadata": {},
   "outputs": [],
   "source": []
  }
 ],
 "metadata": {
  "kernelspec": {
   "display_name": "Python 3",
   "language": "python",
   "name": "python3"
  },
  "language_info": {
   "codemirror_mode": {
    "name": "ipython",
    "version": 3
   },
   "file_extension": ".py",
   "mimetype": "text/x-python",
   "name": "python",
   "nbconvert_exporter": "python",
   "pygments_lexer": "ipython3",
   "version": "3.8.3"
  }
 },
 "nbformat": 4,
 "nbformat_minor": 4
}
