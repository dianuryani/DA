{
 "cells": [
  {
   "cell_type": "code",
   "execution_count": 1,
   "metadata": {
    "scrolled": false
   },
   "outputs": [
    {
     "name": "stderr",
     "output_type": "stream",
     "text": [
      "b'Skipping line 19714: expected 19 fields, saw 24\\n'\n",
      "C:\\Users\\Kong Gu An\\anaconda3\\lib\\site-packages\\IPython\\core\\interactiveshell.py:3071: DtypeWarning: Columns (15) have mixed types.Specify dtype option on import or set low_memory=False.\n",
      "  has_raised = await self.run_ast_nodes(code_ast.body, cell_name,\n"
     ]
    }
   ],
   "source": [
    "#NO. 1 : PERFORM EDA USING STATISTICAL METHOD\n",
    "#IMPORT DATA CSV\n",
    "import pandas as pd\n",
    "\n",
    "df8 = pd.read_csv(r'C:\\Users\\Kong Gu An\\LatihanPython_Dian\\PROJECT KLY\\sampleday8.csv',error_bad_lines=False)\n",
    "df9 = pd.read_csv(r'C:\\Users\\Kong Gu An\\LatihanPython_Dian\\PROJECT KLY\\sampleday9.csv',error_bad_lines=False)\n",
    "df10 = pd.read_csv(r'C:\\Users\\Kong Gu An\\LatihanPython_Dian\\PROJECT KLY\\sampleday10.csv',error_bad_lines=False)\n",
    "df11 = pd.read_csv(r'C:\\Users\\Kong Gu An\\LatihanPython_Dian\\PROJECT KLY\\sampleday11.csv',error_bad_lines=False)\n",
    "df12 = pd.read_csv(r'C:\\Users\\Kong Gu An\\LatihanPython_Dian\\PROJECT KLY\\sampleday12.csv',error_bad_lines=False)\n",
    "df13 = pd.read_csv(r'C:\\Users\\Kong Gu An\\LatihanPython_Dian\\PROJECT KLY\\sampleday13.csv',error_bad_lines=False)\n",
    "df14 = pd.read_csv(r'C:\\Users\\Kong Gu An\\LatihanPython_Dian\\PROJECT KLY\\sampleday14.csv',error_bad_lines=False)"
   ]
  },
  {
   "cell_type": "code",
   "execution_count": 2,
   "metadata": {},
   "outputs": [
    {
     "name": "stdout",
     "output_type": "stream",
     "text": [
      "DATA SAMPLE 5 TERATAS\n",
      "                                     id               browser_id  \\\n",
      "0  f4ce534f-33b8-406f-8166-cae233cf782b         facebook;304.0.0   \n",
      "1  dedcf32a-5885-415b-a13b-cd9b99cff168         facebook;236.0.0   \n",
      "2  721b00f3-e7d6-4e3f-b095-612c513b2158  chrome mobile;88.0.4324   \n",
      "3  22a6bbf6-aebe-46b1-b89e-c82d5a76cc47         chrome;88.0.4324   \n",
      "4  eaf614c0-3d1f-4bfd-9937-73d46d2c23ea         facebook;266.0.0   \n",
      "\n",
      "              os_id           domain_id              device_info_id  \\\n",
      "0         android;9  planet.merdeka.com    samsung;samsung sm-a105g   \n",
      "1        android;10        m.brilio.net        infinix;infinix x692   \n",
      "2        android;10          m.bola.com  generic;generic smartphone   \n",
      "3  mac os x;10.13.2           vidio.com                      ;other   \n",
      "4     android;8.1.0     m.kapanlagi.com              vivo;vivo 1820   \n",
      "\n",
      "                               visit_id                            visitor_id  \\\n",
      "0  17ede683-582b-4183-863c-a4ad15156bd7  7b5d1a5a-127c-4e65-b6d0-b0c58f6aa60a   \n",
      "1  454a18df-7fee-4a4b-bd3f-babc3eab5645  f71fab75-6152-4c4b-b46e-b722e0b7ea96   \n",
      "2  e1733c42-13c2-44e3-8cfa-31e6268048c3  b5420c19-94ca-4199-a458-23544521f686   \n",
      "3  3beee046-c179-4474-8788-a045e7b19d3b  b4950fa5-adb3-44e3-83e3-461a6c9d5f84   \n",
      "4  5eea7ae5-0a1f-435a-9416-a8f40167d753  16988038-8145-46f8-9064-73f1988ec329   \n",
      "\n",
      "      user_id  device_id  login_status  \\\n",
      "0         NaN        NaN         False   \n",
      "1         NaN        NaN         False   \n",
      "2         NaN        NaN         False   \n",
      "3  58041476.0        NaN          True   \n",
      "4         NaN        NaN         False   \n",
      "\n",
      "                                          user_agent     platform  \\\n",
      "0  Mozilla/5.0 (Linux; Android 9; SM-A105G Build/...   web-mobile   \n",
      "1  Mozilla/5.0 (Linux; Android 10; Infinix X692 B...   web-mobile   \n",
      "2  Mozilla/5.0 (Linux; Android 10; CPH1823) Apple...   web-mobile   \n",
      "3  Mozilla/5.0 (Macintosh; Intel Mac OS X 10_13_2...  web-desktop   \n",
      "4  Mozilla/5.0 (Linux; Android 8.1.0; vivo 1820 B...   web-mobile   \n",
      "\n",
      "                                            referrer  \\\n",
      "0  https://planet.merdeka.com/selebrity/didesak-b...   \n",
      "1  https://m.brilio.net/foto/view/news/2020/07/16...   \n",
      "2  https://m.bola.com/ragam/read/4444325/12-arti-...   \n",
      "3    https://www.vidio.com/watch/1664967-episode-131   \n",
      "4  https://m.kapanlagi.com/foto/berita-foto/indon...   \n",
      "\n",
      "                       time                event_time connection  year  month  \\\n",
      "0  2021-02-08T17:04:32.000Z  2021-02-08T17:04:32.000Z        NaN  2021      2   \n",
      "1  2021-02-08T18:34:41.000Z  2021-02-08T18:34:41.000Z        NaN  2021      2   \n",
      "2  2021-02-08T15:16:42.000Z  2021-02-08T15:16:42.000Z        NaN  2021      2   \n",
      "3  2021-02-08T17:27:00.000Z  2021-02-08T17:27:00.000Z        NaN  2021      2   \n",
      "4  2021-02-08T20:51:09.000Z  2021-02-08T20:51:09.000Z        NaN  2021      2   \n",
      "\n",
      "   day  \n",
      "0    8  \n",
      "1    8  \n",
      "2    8  \n",
      "3    8  \n",
      "4    8  \n",
      "\n",
      "DATA INFO\n",
      "<class 'pandas.core.frame.DataFrame'>\n",
      "RangeIndex: 393749 entries, 0 to 393748\n",
      "Data columns (total 19 columns):\n",
      " #   Column          Non-Null Count   Dtype  \n",
      "---  ------          --------------   -----  \n",
      " 0   id              393749 non-null  object \n",
      " 1   browser_id      393749 non-null  object \n",
      " 2   os_id           393749 non-null  object \n",
      " 3   domain_id       393734 non-null  object \n",
      " 4   device_info_id  393749 non-null  object \n",
      " 5   visit_id        393749 non-null  object \n",
      " 6   visitor_id      393749 non-null  object \n",
      " 7   user_id         16898 non-null   float64\n",
      " 8   device_id       0 non-null       float64\n",
      " 9   login_status    393749 non-null  bool   \n",
      " 10  user_agent      393749 non-null  object \n",
      " 11  platform        393749 non-null  object \n",
      " 12  referrer        393735 non-null  object \n",
      " 13  time            393749 non-null  object \n",
      " 14  event_time      393749 non-null  object \n",
      " 15  connection      13 non-null      object \n",
      " 16  year            393749 non-null  int64  \n",
      " 17  month           393749 non-null  int64  \n",
      " 18  day             393749 non-null  int64  \n",
      "dtypes: bool(1), float64(2), int64(3), object(13)\n",
      "memory usage: 54.4+ MB\n",
      "None\n"
     ]
    }
   ],
   "source": [
    "#UNION TABLE\n",
    "union = pd.concat([df8, df9, df10, df11, df12, df13, df14], ignore_index=True)\n",
    "\n",
    "print(\"DATA SAMPLE 5 TERATAS\")\n",
    "print(union.head())\n",
    "\n",
    "print(\"\\nDATA INFO\")\n",
    "print(union.info())"
   ]
  },
  {
   "cell_type": "code",
   "execution_count": 3,
   "metadata": {},
   "outputs": [
    {
     "name": "stdout",
     "output_type": "stream",
     "text": [
      "TABLE INFO AFTER DELETING SOME COLUMNS\n",
      "<class 'pandas.core.frame.DataFrame'>\n",
      "RangeIndex: 393749 entries, 0 to 393748\n",
      "Data columns (total 17 columns):\n",
      " #   Column          Non-Null Count   Dtype  \n",
      "---  ------          --------------   -----  \n",
      " 0   id              393749 non-null  object \n",
      " 1   browser_id      393749 non-null  object \n",
      " 2   os_id           393749 non-null  object \n",
      " 3   domain_id       393734 non-null  object \n",
      " 4   device_info_id  393749 non-null  object \n",
      " 5   visit_id        393749 non-null  object \n",
      " 6   visitor_id      393749 non-null  object \n",
      " 7   user_id         16898 non-null   float64\n",
      " 8   login_status    393749 non-null  bool   \n",
      " 9   user_agent      393749 non-null  object \n",
      " 10  platform        393749 non-null  object \n",
      " 11  referrer        393735 non-null  object \n",
      " 12  time            393749 non-null  object \n",
      " 13  event_time      393749 non-null  object \n",
      " 14  year            393749 non-null  int64  \n",
      " 15  month           393749 non-null  int64  \n",
      " 16  day             393749 non-null  int64  \n",
      "dtypes: bool(1), float64(1), int64(3), object(12)\n",
      "memory usage: 48.4+ MB\n",
      "None\n"
     ]
    }
   ],
   "source": [
    "#DROP COLOUMN WHICH DOESNT HAVE VALUES and HAVE MANY NULL'S\n",
    "del union['device_id']\n",
    "del union['connection']\n",
    "print(\"TABLE INFO AFTER DELETING SOME COLUMNS\")\n",
    "print(union.info())"
   ]
  },
  {
   "cell_type": "code",
   "execution_count": 4,
   "metadata": {
    "scrolled": true
   },
   "outputs": [
    {
     "name": "stdout",
     "output_type": "stream",
     "text": [
      "AFTER CHANGING THE TYPE OF 3 COLUMNS TO DATE TIME\n",
      "<class 'pandas.core.frame.DataFrame'>\n",
      "RangeIndex: 393749 entries, 0 to 393748\n",
      "Data columns (total 17 columns):\n",
      " #   Column          Non-Null Count   Dtype              \n",
      "---  ------          --------------   -----              \n",
      " 0   id              393749 non-null  object             \n",
      " 1   browser_id      393749 non-null  object             \n",
      " 2   os_id           393749 non-null  object             \n",
      " 3   domain_id       393734 non-null  object             \n",
      " 4   device_info_id  393749 non-null  object             \n",
      " 5   visit_id        393749 non-null  object             \n",
      " 6   visitor_id      393749 non-null  object             \n",
      " 7   user_id         16898 non-null   float64            \n",
      " 8   login_status    393749 non-null  bool               \n",
      " 9   user_agent      393749 non-null  object             \n",
      " 10  platform        393749 non-null  object             \n",
      " 11  referrer        393735 non-null  object             \n",
      " 12  time            393749 non-null  datetime64[ns, UTC]\n",
      " 13  event_time      393749 non-null  datetime64[ns, UTC]\n",
      " 14  year            393749 non-null  int64              \n",
      " 15  month           393749 non-null  int64              \n",
      " 16  day             393749 non-null  int64              \n",
      "dtypes: bool(1), datetime64[ns, UTC](2), float64(1), int64(3), object(10)\n",
      "memory usage: 48.4+ MB\n",
      "None\n",
      "                                     id               browser_id  \\\n",
      "0  f4ce534f-33b8-406f-8166-cae233cf782b         facebook;304.0.0   \n",
      "1  dedcf32a-5885-415b-a13b-cd9b99cff168         facebook;236.0.0   \n",
      "2  721b00f3-e7d6-4e3f-b095-612c513b2158  chrome mobile;88.0.4324   \n",
      "3  22a6bbf6-aebe-46b1-b89e-c82d5a76cc47         chrome;88.0.4324   \n",
      "4  eaf614c0-3d1f-4bfd-9937-73d46d2c23ea         facebook;266.0.0   \n",
      "\n",
      "              os_id           domain_id              device_info_id  \\\n",
      "0         android;9  planet.merdeka.com    samsung;samsung sm-a105g   \n",
      "1        android;10        m.brilio.net        infinix;infinix x692   \n",
      "2        android;10          m.bola.com  generic;generic smartphone   \n",
      "3  mac os x;10.13.2           vidio.com                      ;other   \n",
      "4     android;8.1.0     m.kapanlagi.com              vivo;vivo 1820   \n",
      "\n",
      "                               visit_id                            visitor_id  \\\n",
      "0  17ede683-582b-4183-863c-a4ad15156bd7  7b5d1a5a-127c-4e65-b6d0-b0c58f6aa60a   \n",
      "1  454a18df-7fee-4a4b-bd3f-babc3eab5645  f71fab75-6152-4c4b-b46e-b722e0b7ea96   \n",
      "2  e1733c42-13c2-44e3-8cfa-31e6268048c3  b5420c19-94ca-4199-a458-23544521f686   \n",
      "3  3beee046-c179-4474-8788-a045e7b19d3b  b4950fa5-adb3-44e3-83e3-461a6c9d5f84   \n",
      "4  5eea7ae5-0a1f-435a-9416-a8f40167d753  16988038-8145-46f8-9064-73f1988ec329   \n",
      "\n",
      "      user_id  login_status  \\\n",
      "0         NaN         False   \n",
      "1         NaN         False   \n",
      "2         NaN         False   \n",
      "3  58041476.0          True   \n",
      "4         NaN         False   \n",
      "\n",
      "                                          user_agent     platform  \\\n",
      "0  Mozilla/5.0 (Linux; Android 9; SM-A105G Build/...   web-mobile   \n",
      "1  Mozilla/5.0 (Linux; Android 10; Infinix X692 B...   web-mobile   \n",
      "2  Mozilla/5.0 (Linux; Android 10; CPH1823) Apple...   web-mobile   \n",
      "3  Mozilla/5.0 (Macintosh; Intel Mac OS X 10_13_2...  web-desktop   \n",
      "4  Mozilla/5.0 (Linux; Android 8.1.0; vivo 1820 B...   web-mobile   \n",
      "\n",
      "                                            referrer  \\\n",
      "0  https://planet.merdeka.com/selebrity/didesak-b...   \n",
      "1  https://m.brilio.net/foto/view/news/2020/07/16...   \n",
      "2  https://m.bola.com/ragam/read/4444325/12-arti-...   \n",
      "3    https://www.vidio.com/watch/1664967-episode-131   \n",
      "4  https://m.kapanlagi.com/foto/berita-foto/indon...   \n",
      "\n",
      "                       time                event_time  year  month  day  \n",
      "0 2021-02-08 17:04:32+00:00 2021-02-08 17:04:32+00:00  2021      2    8  \n",
      "1 2021-02-08 18:34:41+00:00 2021-02-08 18:34:41+00:00  2021      2    8  \n",
      "2 2021-02-08 15:16:42+00:00 2021-02-08 15:16:42+00:00  2021      2    8  \n",
      "3 2021-02-08 17:27:00+00:00 2021-02-08 17:27:00+00:00  2021      2    8  \n",
      "4 2021-02-08 20:51:09+00:00 2021-02-08 20:51:09+00:00  2021      2    8  \n"
     ]
    }
   ],
   "source": [
    "#CHANGING COLUMN TIME AND EVENT TIME TO DATETIME TYPE\n",
    "union['time'] = pd.to_datetime(union.time)\n",
    "union['event_time'] = pd.to_datetime(union.event_time)\n",
    "print(\"AFTER CHANGING THE TYPE OF 3 COLUMNS TO DATE TIME\")\n",
    "print(union.info())\n",
    "print(union.head())"
   ]
  },
  {
   "cell_type": "code",
   "execution_count": 5,
   "metadata": {},
   "outputs": [
    {
     "data": {
      "text/html": [
       "<div>\n",
       "<style scoped>\n",
       "    .dataframe tbody tr th:only-of-type {\n",
       "        vertical-align: middle;\n",
       "    }\n",
       "\n",
       "    .dataframe tbody tr th {\n",
       "        vertical-align: top;\n",
       "    }\n",
       "\n",
       "    .dataframe thead th {\n",
       "        text-align: right;\n",
       "    }\n",
       "</style>\n",
       "<table border=\"1\" class=\"dataframe\">\n",
       "  <thead>\n",
       "    <tr style=\"text-align: right;\">\n",
       "      <th></th>\n",
       "      <th>year</th>\n",
       "      <th>month</th>\n",
       "      <th>day</th>\n",
       "    </tr>\n",
       "  </thead>\n",
       "  <tbody>\n",
       "    <tr>\n",
       "      <th>count</th>\n",
       "      <td>393749.0</td>\n",
       "      <td>393749.0</td>\n",
       "      <td>393749.000000</td>\n",
       "    </tr>\n",
       "    <tr>\n",
       "      <th>mean</th>\n",
       "      <td>2021.0</td>\n",
       "      <td>2.0</td>\n",
       "      <td>11.000008</td>\n",
       "    </tr>\n",
       "    <tr>\n",
       "      <th>std</th>\n",
       "      <td>0.0</td>\n",
       "      <td>0.0</td>\n",
       "      <td>1.999999</td>\n",
       "    </tr>\n",
       "    <tr>\n",
       "      <th>min</th>\n",
       "      <td>2021.0</td>\n",
       "      <td>2.0</td>\n",
       "      <td>8.000000</td>\n",
       "    </tr>\n",
       "    <tr>\n",
       "      <th>25%</th>\n",
       "      <td>2021.0</td>\n",
       "      <td>2.0</td>\n",
       "      <td>9.000000</td>\n",
       "    </tr>\n",
       "    <tr>\n",
       "      <th>50%</th>\n",
       "      <td>2021.0</td>\n",
       "      <td>2.0</td>\n",
       "      <td>11.000000</td>\n",
       "    </tr>\n",
       "    <tr>\n",
       "      <th>75%</th>\n",
       "      <td>2021.0</td>\n",
       "      <td>2.0</td>\n",
       "      <td>13.000000</td>\n",
       "    </tr>\n",
       "    <tr>\n",
       "      <th>max</th>\n",
       "      <td>2021.0</td>\n",
       "      <td>2.0</td>\n",
       "      <td>14.000000</td>\n",
       "    </tr>\n",
       "  </tbody>\n",
       "</table>\n",
       "</div>"
      ],
      "text/plain": [
       "           year     month            day\n",
       "count  393749.0  393749.0  393749.000000\n",
       "mean     2021.0       2.0      11.000008\n",
       "std         0.0       0.0       1.999999\n",
       "min      2021.0       2.0       8.000000\n",
       "25%      2021.0       2.0       9.000000\n",
       "50%      2021.0       2.0      11.000000\n",
       "75%      2021.0       2.0      13.000000\n",
       "max      2021.0       2.0      14.000000"
      ]
     },
     "execution_count": 5,
     "metadata": {},
     "output_type": "execute_result"
    }
   ],
   "source": [
    "#STATISTIC DESCRIPTIVE\n",
    "union[['year','month','day']].describe()"
   ]
  },
  {
   "cell_type": "code",
   "execution_count": 6,
   "metadata": {},
   "outputs": [
    {
     "name": "stdout",
     "output_type": "stream",
     "text": [
      "Length kolom user_id: 393749\n",
      "Count kolom count user_id: 16898\n",
      "Persentase missing value kolom user_id: 95.7%\n"
     ]
    }
   ],
   "source": [
    "# MISSING VALUE PADA KOLOM USER_ID\n",
    "length_user = len(union['user_id'])\n",
    "print('Length kolom user_id:', length_user)\n",
    "\n",
    "count_user = union['user_id'].count()\n",
    "print('Count kolom count user_id:', count_user)\n",
    "\n",
    "number_of_missing_values_user = length_user - count_user\n",
    "float_of_missing_values_user = float(number_of_missing_values_user/length_user)\n",
    "pct_of_missing_values_user = '{0:.1f}%'.format(float_of_missing_values_user*100)\n",
    "print('Persentase missing value kolom user_id:', pct_of_missing_values_user)"
   ]
  },
  {
   "cell_type": "code",
   "execution_count": 7,
   "metadata": {},
   "outputs": [
    {
     "data": {
      "application/vnd.jupyter.widget-view+json": {
       "model_id": "a31a390553104b81aaacdc7118748349",
       "version_major": 2,
       "version_minor": 0
      },
      "text/plain": [
       "HBox(children=(FloatProgress(value=0.0, description='Summarize dataset', max=31.0, style=ProgressStyle(descrip…"
      ]
     },
     "metadata": {},
     "output_type": "display_data"
    },
    {
     "name": "stdout",
     "output_type": "stream",
     "text": [
      "\n"
     ]
    },
    {
     "data": {
      "application/vnd.jupyter.widget-view+json": {
       "model_id": "9040cb1fea65455d912e7726726fdb11",
       "version_major": 2,
       "version_minor": 0
      },
      "text/plain": [
       "HBox(children=(FloatProgress(value=0.0, description='Generate report structure', max=1.0, style=ProgressStyle(…"
      ]
     },
     "metadata": {},
     "output_type": "display_data"
    },
    {
     "name": "stdout",
     "output_type": "stream",
     "text": [
      "\n"
     ]
    },
    {
     "data": {
      "application/vnd.jupyter.widget-view+json": {
       "model_id": "6d3dd4c0da224fb2ae2ed8473f6872c6",
       "version_major": 2,
       "version_minor": 0
      },
      "text/plain": [
       "HBox(children=(FloatProgress(value=0.0, description='Render HTML', max=1.0, style=ProgressStyle(description_wi…"
      ]
     },
     "metadata": {},
     "output_type": "display_data"
    },
    {
     "name": "stdout",
     "output_type": "stream",
     "text": [
      "\n"
     ]
    },
    {
     "data": {
      "application/vnd.jupyter.widget-view+json": {
       "model_id": "5d5aa85c5d8e45889da34be4d3cd86b7",
       "version_major": 2,
       "version_minor": 0
      },
      "text/plain": [
       "HBox(children=(FloatProgress(value=0.0, description='Export report to file', max=1.0, style=ProgressStyle(desc…"
      ]
     },
     "metadata": {},
     "output_type": "display_data"
    },
    {
     "name": "stdout",
     "output_type": "stream",
     "text": [
      "\n"
     ]
    }
   ],
   "source": [
    "#PENGGUNAAN LIBRARY PROFILING TO PRODUCE AUTOMATIVE EDA\n",
    "import pandas_profiling as pp\n",
    "report = pp.ProfileReport(union)\n",
    "report.to_file('profile_reportdf.html')"
   ]
  }
 ],
 "metadata": {
  "kernelspec": {
   "display_name": "Python 3",
   "language": "python",
   "name": "python3"
  },
  "language_info": {
   "codemirror_mode": {
    "name": "ipython",
    "version": 3
   },
   "file_extension": ".py",
   "mimetype": "text/x-python",
   "name": "python",
   "nbconvert_exporter": "python",
   "pygments_lexer": "ipython3",
   "version": "3.8.3"
  }
 },
 "nbformat": 4,
 "nbformat_minor": 4
}
