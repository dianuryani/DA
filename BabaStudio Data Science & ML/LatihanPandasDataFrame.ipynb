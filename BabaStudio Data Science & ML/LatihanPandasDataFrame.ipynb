{
 "cells": [
  {
   "cell_type": "code",
   "execution_count": 6,
   "metadata": {},
   "outputs": [],
   "source": [
    "import numpy as np\n",
    "import pandas as pd"
   ]
  },
  {
   "cell_type": "code",
   "execution_count": 7,
   "metadata": {},
   "outputs": [],
   "source": [
    "df = pd.DataFrame(np.random.randn(5,6),index='A B C D E'.split(),columns='Q W E R T Y'.split())"
   ]
  },
  {
   "cell_type": "code",
   "execution_count": 8,
   "metadata": {},
   "outputs": [
    {
     "data": {
      "text/html": [
       "<div>\n",
       "<style scoped>\n",
       "    .dataframe tbody tr th:only-of-type {\n",
       "        vertical-align: middle;\n",
       "    }\n",
       "\n",
       "    .dataframe tbody tr th {\n",
       "        vertical-align: top;\n",
       "    }\n",
       "\n",
       "    .dataframe thead th {\n",
       "        text-align: right;\n",
       "    }\n",
       "</style>\n",
       "<table border=\"1\" class=\"dataframe\">\n",
       "  <thead>\n",
       "    <tr style=\"text-align: right;\">\n",
       "      <th></th>\n",
       "      <th>Q</th>\n",
       "      <th>W</th>\n",
       "      <th>E</th>\n",
       "      <th>R</th>\n",
       "      <th>T</th>\n",
       "      <th>Y</th>\n",
       "    </tr>\n",
       "  </thead>\n",
       "  <tbody>\n",
       "    <tr>\n",
       "      <th>A</th>\n",
       "      <td>0.134124</td>\n",
       "      <td>1.426067</td>\n",
       "      <td>0.541531</td>\n",
       "      <td>-1.323307</td>\n",
       "      <td>-0.528868</td>\n",
       "      <td>0.566311</td>\n",
       "    </tr>\n",
       "    <tr>\n",
       "      <th>B</th>\n",
       "      <td>2.936756</td>\n",
       "      <td>0.231581</td>\n",
       "      <td>0.987193</td>\n",
       "      <td>-0.111767</td>\n",
       "      <td>0.999995</td>\n",
       "      <td>-1.657371</td>\n",
       "    </tr>\n",
       "    <tr>\n",
       "      <th>C</th>\n",
       "      <td>0.461883</td>\n",
       "      <td>-0.172430</td>\n",
       "      <td>-0.116511</td>\n",
       "      <td>-1.170728</td>\n",
       "      <td>0.972224</td>\n",
       "      <td>-0.522022</td>\n",
       "    </tr>\n",
       "    <tr>\n",
       "      <th>D</th>\n",
       "      <td>-0.235668</td>\n",
       "      <td>-0.635587</td>\n",
       "      <td>0.145804</td>\n",
       "      <td>1.316187</td>\n",
       "      <td>-0.137117</td>\n",
       "      <td>-0.711095</td>\n",
       "    </tr>\n",
       "    <tr>\n",
       "      <th>E</th>\n",
       "      <td>1.017009</td>\n",
       "      <td>1.584238</td>\n",
       "      <td>0.610376</td>\n",
       "      <td>-0.709675</td>\n",
       "      <td>-0.115121</td>\n",
       "      <td>-0.827291</td>\n",
       "    </tr>\n",
       "  </tbody>\n",
       "</table>\n",
       "</div>"
      ],
      "text/plain": [
       "          Q         W         E         R         T         Y\n",
       "A  0.134124  1.426067  0.541531 -1.323307 -0.528868  0.566311\n",
       "B  2.936756  0.231581  0.987193 -0.111767  0.999995 -1.657371\n",
       "C  0.461883 -0.172430 -0.116511 -1.170728  0.972224 -0.522022\n",
       "D -0.235668 -0.635587  0.145804  1.316187 -0.137117 -0.711095\n",
       "E  1.017009  1.584238  0.610376 -0.709675 -0.115121 -0.827291"
      ]
     },
     "execution_count": 8,
     "metadata": {},
     "output_type": "execute_result"
    }
   ],
   "source": [
    "df"
   ]
  },
  {
   "cell_type": "code",
   "execution_count": 9,
   "metadata": {},
   "outputs": [
    {
     "data": {
      "text/plain": [
       "A    1.426067\n",
       "B    0.231581\n",
       "C   -0.172430\n",
       "D   -0.635587\n",
       "E    1.584238\n",
       "Name: W, dtype: float64"
      ]
     },
     "execution_count": 9,
     "metadata": {},
     "output_type": "execute_result"
    }
   ],
   "source": [
    "#memanggil kolum W\n",
    "df['W']"
   ]
  },
  {
   "cell_type": "code",
   "execution_count": 10,
   "metadata": {},
   "outputs": [
    {
     "data": {
      "text/plain": [
       "A    1.426067\n",
       "B    0.231581\n",
       "C   -0.172430\n",
       "D   -0.635587\n",
       "E    1.584238\n",
       "Name: W, dtype: float64"
      ]
     },
     "execution_count": 10,
     "metadata": {},
     "output_type": "execute_result"
    }
   ],
   "source": [
    "df.W"
   ]
  },
  {
   "cell_type": "code",
   "execution_count": 11,
   "metadata": {},
   "outputs": [
    {
     "data": {
      "text/html": [
       "<div>\n",
       "<style scoped>\n",
       "    .dataframe tbody tr th:only-of-type {\n",
       "        vertical-align: middle;\n",
       "    }\n",
       "\n",
       "    .dataframe tbody tr th {\n",
       "        vertical-align: top;\n",
       "    }\n",
       "\n",
       "    .dataframe thead th {\n",
       "        text-align: right;\n",
       "    }\n",
       "</style>\n",
       "<table border=\"1\" class=\"dataframe\">\n",
       "  <thead>\n",
       "    <tr style=\"text-align: right;\">\n",
       "      <th></th>\n",
       "      <th>W</th>\n",
       "      <th>R</th>\n",
       "    </tr>\n",
       "  </thead>\n",
       "  <tbody>\n",
       "    <tr>\n",
       "      <th>A</th>\n",
       "      <td>1.426067</td>\n",
       "      <td>-1.323307</td>\n",
       "    </tr>\n",
       "    <tr>\n",
       "      <th>B</th>\n",
       "      <td>0.231581</td>\n",
       "      <td>-0.111767</td>\n",
       "    </tr>\n",
       "    <tr>\n",
       "      <th>C</th>\n",
       "      <td>-0.172430</td>\n",
       "      <td>-1.170728</td>\n",
       "    </tr>\n",
       "    <tr>\n",
       "      <th>D</th>\n",
       "      <td>-0.635587</td>\n",
       "      <td>1.316187</td>\n",
       "    </tr>\n",
       "    <tr>\n",
       "      <th>E</th>\n",
       "      <td>1.584238</td>\n",
       "      <td>-0.709675</td>\n",
       "    </tr>\n",
       "  </tbody>\n",
       "</table>\n",
       "</div>"
      ],
      "text/plain": [
       "          W         R\n",
       "A  1.426067 -1.323307\n",
       "B  0.231581 -0.111767\n",
       "C -0.172430 -1.170728\n",
       "D -0.635587  1.316187\n",
       "E  1.584238 -0.709675"
      ]
     },
     "execution_count": 11,
     "metadata": {},
     "output_type": "execute_result"
    }
   ],
   "source": [
    "#memanggil n kolum\n",
    "df[['W','R']]"
   ]
  },
  {
   "cell_type": "code",
   "execution_count": 12,
   "metadata": {},
   "outputs": [
    {
     "data": {
      "text/html": [
       "<div>\n",
       "<style scoped>\n",
       "    .dataframe tbody tr th:only-of-type {\n",
       "        vertical-align: middle;\n",
       "    }\n",
       "\n",
       "    .dataframe tbody tr th {\n",
       "        vertical-align: top;\n",
       "    }\n",
       "\n",
       "    .dataframe thead th {\n",
       "        text-align: right;\n",
       "    }\n",
       "</style>\n",
       "<table border=\"1\" class=\"dataframe\">\n",
       "  <thead>\n",
       "    <tr style=\"text-align: right;\">\n",
       "      <th></th>\n",
       "      <th>Q</th>\n",
       "    </tr>\n",
       "  </thead>\n",
       "  <tbody>\n",
       "    <tr>\n",
       "      <th>A</th>\n",
       "      <td>0.134124</td>\n",
       "    </tr>\n",
       "    <tr>\n",
       "      <th>B</th>\n",
       "      <td>2.936756</td>\n",
       "    </tr>\n",
       "    <tr>\n",
       "      <th>C</th>\n",
       "      <td>0.461883</td>\n",
       "    </tr>\n",
       "    <tr>\n",
       "      <th>D</th>\n",
       "      <td>-0.235668</td>\n",
       "    </tr>\n",
       "    <tr>\n",
       "      <th>E</th>\n",
       "      <td>1.017009</td>\n",
       "    </tr>\n",
       "  </tbody>\n",
       "</table>\n",
       "</div>"
      ],
      "text/plain": [
       "          Q\n",
       "A  0.134124\n",
       "B  2.936756\n",
       "C  0.461883\n",
       "D -0.235668\n",
       "E  1.017009"
      ]
     },
     "execution_count": 12,
     "metadata": {},
     "output_type": "execute_result"
    }
   ],
   "source": [
    "df[['Q']]"
   ]
  },
  {
   "cell_type": "code",
   "execution_count": 13,
   "metadata": {},
   "outputs": [
    {
     "data": {
      "text/html": [
       "<div>\n",
       "<style scoped>\n",
       "    .dataframe tbody tr th:only-of-type {\n",
       "        vertical-align: middle;\n",
       "    }\n",
       "\n",
       "    .dataframe tbody tr th {\n",
       "        vertical-align: top;\n",
       "    }\n",
       "\n",
       "    .dataframe thead th {\n",
       "        text-align: right;\n",
       "    }\n",
       "</style>\n",
       "<table border=\"1\" class=\"dataframe\">\n",
       "  <thead>\n",
       "    <tr style=\"text-align: right;\">\n",
       "      <th></th>\n",
       "      <th>Q</th>\n",
       "      <th>W</th>\n",
       "      <th>E</th>\n",
       "      <th>R</th>\n",
       "      <th>T</th>\n",
       "      <th>Y</th>\n",
       "      <th>baru</th>\n",
       "    </tr>\n",
       "  </thead>\n",
       "  <tbody>\n",
       "    <tr>\n",
       "      <th>A</th>\n",
       "      <td>0.134124</td>\n",
       "      <td>1.426067</td>\n",
       "      <td>0.541531</td>\n",
       "      <td>-1.323307</td>\n",
       "      <td>-0.528868</td>\n",
       "      <td>0.566311</td>\n",
       "      <td>1.560190</td>\n",
       "    </tr>\n",
       "    <tr>\n",
       "      <th>B</th>\n",
       "      <td>2.936756</td>\n",
       "      <td>0.231581</td>\n",
       "      <td>0.987193</td>\n",
       "      <td>-0.111767</td>\n",
       "      <td>0.999995</td>\n",
       "      <td>-1.657371</td>\n",
       "      <td>3.168337</td>\n",
       "    </tr>\n",
       "    <tr>\n",
       "      <th>C</th>\n",
       "      <td>0.461883</td>\n",
       "      <td>-0.172430</td>\n",
       "      <td>-0.116511</td>\n",
       "      <td>-1.170728</td>\n",
       "      <td>0.972224</td>\n",
       "      <td>-0.522022</td>\n",
       "      <td>0.289453</td>\n",
       "    </tr>\n",
       "    <tr>\n",
       "      <th>D</th>\n",
       "      <td>-0.235668</td>\n",
       "      <td>-0.635587</td>\n",
       "      <td>0.145804</td>\n",
       "      <td>1.316187</td>\n",
       "      <td>-0.137117</td>\n",
       "      <td>-0.711095</td>\n",
       "      <td>-0.871256</td>\n",
       "    </tr>\n",
       "    <tr>\n",
       "      <th>E</th>\n",
       "      <td>1.017009</td>\n",
       "      <td>1.584238</td>\n",
       "      <td>0.610376</td>\n",
       "      <td>-0.709675</td>\n",
       "      <td>-0.115121</td>\n",
       "      <td>-0.827291</td>\n",
       "      <td>2.601246</td>\n",
       "    </tr>\n",
       "  </tbody>\n",
       "</table>\n",
       "</div>"
      ],
      "text/plain": [
       "          Q         W         E         R         T         Y      baru\n",
       "A  0.134124  1.426067  0.541531 -1.323307 -0.528868  0.566311  1.560190\n",
       "B  2.936756  0.231581  0.987193 -0.111767  0.999995 -1.657371  3.168337\n",
       "C  0.461883 -0.172430 -0.116511 -1.170728  0.972224 -0.522022  0.289453\n",
       "D -0.235668 -0.635587  0.145804  1.316187 -0.137117 -0.711095 -0.871256\n",
       "E  1.017009  1.584238  0.610376 -0.709675 -0.115121 -0.827291  2.601246"
      ]
     },
     "execution_count": 13,
     "metadata": {},
     "output_type": "execute_result"
    }
   ],
   "source": [
    "#Menambah kolum baru\n",
    "df['baru']=df['Q']+df['W']\n",
    "df"
   ]
  },
  {
   "cell_type": "code",
   "execution_count": 14,
   "metadata": {},
   "outputs": [
    {
     "data": {
      "text/plain": [
       "Q       4.314103\n",
       "W       2.433868\n",
       "E       2.168393\n",
       "R      -1.999291\n",
       "T       1.191113\n",
       "Y      -3.151468\n",
       "baru    6.747971\n",
       "dtype: float64"
      ]
     },
     "execution_count": 14,
     "metadata": {},
     "output_type": "execute_result"
    }
   ],
   "source": [
    "np.sum(df)"
   ]
  },
  {
   "cell_type": "code",
   "execution_count": 15,
   "metadata": {},
   "outputs": [
    {
     "data": {
      "text/plain": [
       "4.314103010577436"
      ]
     },
     "execution_count": 15,
     "metadata": {},
     "output_type": "execute_result"
    }
   ],
   "source": [
    "np.sum(df['Q'])"
   ]
  },
  {
   "cell_type": "code",
   "execution_count": 16,
   "metadata": {},
   "outputs": [
    {
     "data": {
      "text/html": [
       "<div>\n",
       "<style scoped>\n",
       "    .dataframe tbody tr th:only-of-type {\n",
       "        vertical-align: middle;\n",
       "    }\n",
       "\n",
       "    .dataframe tbody tr th {\n",
       "        vertical-align: top;\n",
       "    }\n",
       "\n",
       "    .dataframe thead th {\n",
       "        text-align: right;\n",
       "    }\n",
       "</style>\n",
       "<table border=\"1\" class=\"dataframe\">\n",
       "  <thead>\n",
       "    <tr style=\"text-align: right;\">\n",
       "      <th></th>\n",
       "      <th>Q</th>\n",
       "      <th>E</th>\n",
       "      <th>R</th>\n",
       "      <th>T</th>\n",
       "      <th>Y</th>\n",
       "      <th>baru</th>\n",
       "    </tr>\n",
       "  </thead>\n",
       "  <tbody>\n",
       "    <tr>\n",
       "      <th>A</th>\n",
       "      <td>0.134124</td>\n",
       "      <td>0.541531</td>\n",
       "      <td>-1.323307</td>\n",
       "      <td>-0.528868</td>\n",
       "      <td>0.566311</td>\n",
       "      <td>1.560190</td>\n",
       "    </tr>\n",
       "    <tr>\n",
       "      <th>B</th>\n",
       "      <td>2.936756</td>\n",
       "      <td>0.987193</td>\n",
       "      <td>-0.111767</td>\n",
       "      <td>0.999995</td>\n",
       "      <td>-1.657371</td>\n",
       "      <td>3.168337</td>\n",
       "    </tr>\n",
       "    <tr>\n",
       "      <th>C</th>\n",
       "      <td>0.461883</td>\n",
       "      <td>-0.116511</td>\n",
       "      <td>-1.170728</td>\n",
       "      <td>0.972224</td>\n",
       "      <td>-0.522022</td>\n",
       "      <td>0.289453</td>\n",
       "    </tr>\n",
       "    <tr>\n",
       "      <th>D</th>\n",
       "      <td>-0.235668</td>\n",
       "      <td>0.145804</td>\n",
       "      <td>1.316187</td>\n",
       "      <td>-0.137117</td>\n",
       "      <td>-0.711095</td>\n",
       "      <td>-0.871256</td>\n",
       "    </tr>\n",
       "    <tr>\n",
       "      <th>E</th>\n",
       "      <td>1.017009</td>\n",
       "      <td>0.610376</td>\n",
       "      <td>-0.709675</td>\n",
       "      <td>-0.115121</td>\n",
       "      <td>-0.827291</td>\n",
       "      <td>2.601246</td>\n",
       "    </tr>\n",
       "  </tbody>\n",
       "</table>\n",
       "</div>"
      ],
      "text/plain": [
       "          Q         E         R         T         Y      baru\n",
       "A  0.134124  0.541531 -1.323307 -0.528868  0.566311  1.560190\n",
       "B  2.936756  0.987193 -0.111767  0.999995 -1.657371  3.168337\n",
       "C  0.461883 -0.116511 -1.170728  0.972224 -0.522022  0.289453\n",
       "D -0.235668  0.145804  1.316187 -0.137117 -0.711095 -0.871256\n",
       "E  1.017009  0.610376 -0.709675 -0.115121 -0.827291  2.601246"
      ]
     },
     "execution_count": 16,
     "metadata": {},
     "output_type": "execute_result"
    }
   ],
   "source": [
    "#Menghapus kolom\n",
    "df.drop('W',axis=1)"
   ]
  },
  {
   "cell_type": "code",
   "execution_count": 17,
   "metadata": {},
   "outputs": [
    {
     "data": {
      "text/html": [
       "<div>\n",
       "<style scoped>\n",
       "    .dataframe tbody tr th:only-of-type {\n",
       "        vertical-align: middle;\n",
       "    }\n",
       "\n",
       "    .dataframe tbody tr th {\n",
       "        vertical-align: top;\n",
       "    }\n",
       "\n",
       "    .dataframe thead th {\n",
       "        text-align: right;\n",
       "    }\n",
       "</style>\n",
       "<table border=\"1\" class=\"dataframe\">\n",
       "  <thead>\n",
       "    <tr style=\"text-align: right;\">\n",
       "      <th></th>\n",
       "      <th>Q</th>\n",
       "      <th>W</th>\n",
       "      <th>E</th>\n",
       "      <th>R</th>\n",
       "      <th>T</th>\n",
       "      <th>Y</th>\n",
       "      <th>baru</th>\n",
       "    </tr>\n",
       "  </thead>\n",
       "  <tbody>\n",
       "    <tr>\n",
       "      <th>A</th>\n",
       "      <td>0.134124</td>\n",
       "      <td>1.426067</td>\n",
       "      <td>0.541531</td>\n",
       "      <td>-1.323307</td>\n",
       "      <td>-0.528868</td>\n",
       "      <td>0.566311</td>\n",
       "      <td>1.560190</td>\n",
       "    </tr>\n",
       "    <tr>\n",
       "      <th>B</th>\n",
       "      <td>2.936756</td>\n",
       "      <td>0.231581</td>\n",
       "      <td>0.987193</td>\n",
       "      <td>-0.111767</td>\n",
       "      <td>0.999995</td>\n",
       "      <td>-1.657371</td>\n",
       "      <td>3.168337</td>\n",
       "    </tr>\n",
       "    <tr>\n",
       "      <th>C</th>\n",
       "      <td>0.461883</td>\n",
       "      <td>-0.172430</td>\n",
       "      <td>-0.116511</td>\n",
       "      <td>-1.170728</td>\n",
       "      <td>0.972224</td>\n",
       "      <td>-0.522022</td>\n",
       "      <td>0.289453</td>\n",
       "    </tr>\n",
       "    <tr>\n",
       "      <th>D</th>\n",
       "      <td>-0.235668</td>\n",
       "      <td>-0.635587</td>\n",
       "      <td>0.145804</td>\n",
       "      <td>1.316187</td>\n",
       "      <td>-0.137117</td>\n",
       "      <td>-0.711095</td>\n",
       "      <td>-0.871256</td>\n",
       "    </tr>\n",
       "    <tr>\n",
       "      <th>E</th>\n",
       "      <td>1.017009</td>\n",
       "      <td>1.584238</td>\n",
       "      <td>0.610376</td>\n",
       "      <td>-0.709675</td>\n",
       "      <td>-0.115121</td>\n",
       "      <td>-0.827291</td>\n",
       "      <td>2.601246</td>\n",
       "    </tr>\n",
       "  </tbody>\n",
       "</table>\n",
       "</div>"
      ],
      "text/plain": [
       "          Q         W         E         R         T         Y      baru\n",
       "A  0.134124  1.426067  0.541531 -1.323307 -0.528868  0.566311  1.560190\n",
       "B  2.936756  0.231581  0.987193 -0.111767  0.999995 -1.657371  3.168337\n",
       "C  0.461883 -0.172430 -0.116511 -1.170728  0.972224 -0.522022  0.289453\n",
       "D -0.235668 -0.635587  0.145804  1.316187 -0.137117 -0.711095 -0.871256\n",
       "E  1.017009  1.584238  0.610376 -0.709675 -0.115121 -0.827291  2.601246"
      ]
     },
     "execution_count": 17,
     "metadata": {},
     "output_type": "execute_result"
    }
   ],
   "source": [
    "df"
   ]
  },
  {
   "cell_type": "code",
   "execution_count": 18,
   "metadata": {},
   "outputs": [],
   "source": [
    "df.drop('Q',axis=1,inplace=True)"
   ]
  },
  {
   "cell_type": "code",
   "execution_count": 19,
   "metadata": {},
   "outputs": [
    {
     "data": {
      "text/html": [
       "<div>\n",
       "<style scoped>\n",
       "    .dataframe tbody tr th:only-of-type {\n",
       "        vertical-align: middle;\n",
       "    }\n",
       "\n",
       "    .dataframe tbody tr th {\n",
       "        vertical-align: top;\n",
       "    }\n",
       "\n",
       "    .dataframe thead th {\n",
       "        text-align: right;\n",
       "    }\n",
       "</style>\n",
       "<table border=\"1\" class=\"dataframe\">\n",
       "  <thead>\n",
       "    <tr style=\"text-align: right;\">\n",
       "      <th></th>\n",
       "      <th>W</th>\n",
       "      <th>E</th>\n",
       "      <th>R</th>\n",
       "      <th>T</th>\n",
       "      <th>Y</th>\n",
       "      <th>baru</th>\n",
       "    </tr>\n",
       "  </thead>\n",
       "  <tbody>\n",
       "    <tr>\n",
       "      <th>B</th>\n",
       "      <td>0.231581</td>\n",
       "      <td>0.987193</td>\n",
       "      <td>-0.111767</td>\n",
       "      <td>0.999995</td>\n",
       "      <td>-1.657371</td>\n",
       "      <td>3.168337</td>\n",
       "    </tr>\n",
       "    <tr>\n",
       "      <th>C</th>\n",
       "      <td>-0.172430</td>\n",
       "      <td>-0.116511</td>\n",
       "      <td>-1.170728</td>\n",
       "      <td>0.972224</td>\n",
       "      <td>-0.522022</td>\n",
       "      <td>0.289453</td>\n",
       "    </tr>\n",
       "    <tr>\n",
       "      <th>D</th>\n",
       "      <td>-0.635587</td>\n",
       "      <td>0.145804</td>\n",
       "      <td>1.316187</td>\n",
       "      <td>-0.137117</td>\n",
       "      <td>-0.711095</td>\n",
       "      <td>-0.871256</td>\n",
       "    </tr>\n",
       "    <tr>\n",
       "      <th>E</th>\n",
       "      <td>1.584238</td>\n",
       "      <td>0.610376</td>\n",
       "      <td>-0.709675</td>\n",
       "      <td>-0.115121</td>\n",
       "      <td>-0.827291</td>\n",
       "      <td>2.601246</td>\n",
       "    </tr>\n",
       "  </tbody>\n",
       "</table>\n",
       "</div>"
      ],
      "text/plain": [
       "          W         E         R         T         Y      baru\n",
       "B  0.231581  0.987193 -0.111767  0.999995 -1.657371  3.168337\n",
       "C -0.172430 -0.116511 -1.170728  0.972224 -0.522022  0.289453\n",
       "D -0.635587  0.145804  1.316187 -0.137117 -0.711095 -0.871256\n",
       "E  1.584238  0.610376 -0.709675 -0.115121 -0.827291  2.601246"
      ]
     },
     "execution_count": 19,
     "metadata": {},
     "output_type": "execute_result"
    }
   ],
   "source": [
    "df.drop('A',axis=0)"
   ]
  },
  {
   "cell_type": "code",
   "execution_count": 20,
   "metadata": {},
   "outputs": [
    {
     "data": {
      "text/html": [
       "<div>\n",
       "<style scoped>\n",
       "    .dataframe tbody tr th:only-of-type {\n",
       "        vertical-align: middle;\n",
       "    }\n",
       "\n",
       "    .dataframe tbody tr th {\n",
       "        vertical-align: top;\n",
       "    }\n",
       "\n",
       "    .dataframe thead th {\n",
       "        text-align: right;\n",
       "    }\n",
       "</style>\n",
       "<table border=\"1\" class=\"dataframe\">\n",
       "  <thead>\n",
       "    <tr style=\"text-align: right;\">\n",
       "      <th></th>\n",
       "      <th>W</th>\n",
       "      <th>E</th>\n",
       "      <th>R</th>\n",
       "      <th>T</th>\n",
       "      <th>Y</th>\n",
       "      <th>baru</th>\n",
       "    </tr>\n",
       "  </thead>\n",
       "  <tbody>\n",
       "    <tr>\n",
       "      <th>A</th>\n",
       "      <td>1.426067</td>\n",
       "      <td>0.541531</td>\n",
       "      <td>-1.323307</td>\n",
       "      <td>-0.528868</td>\n",
       "      <td>0.566311</td>\n",
       "      <td>1.560190</td>\n",
       "    </tr>\n",
       "    <tr>\n",
       "      <th>B</th>\n",
       "      <td>0.231581</td>\n",
       "      <td>0.987193</td>\n",
       "      <td>-0.111767</td>\n",
       "      <td>0.999995</td>\n",
       "      <td>-1.657371</td>\n",
       "      <td>3.168337</td>\n",
       "    </tr>\n",
       "    <tr>\n",
       "      <th>C</th>\n",
       "      <td>-0.172430</td>\n",
       "      <td>-0.116511</td>\n",
       "      <td>-1.170728</td>\n",
       "      <td>0.972224</td>\n",
       "      <td>-0.522022</td>\n",
       "      <td>0.289453</td>\n",
       "    </tr>\n",
       "    <tr>\n",
       "      <th>D</th>\n",
       "      <td>-0.635587</td>\n",
       "      <td>0.145804</td>\n",
       "      <td>1.316187</td>\n",
       "      <td>-0.137117</td>\n",
       "      <td>-0.711095</td>\n",
       "      <td>-0.871256</td>\n",
       "    </tr>\n",
       "    <tr>\n",
       "      <th>E</th>\n",
       "      <td>1.584238</td>\n",
       "      <td>0.610376</td>\n",
       "      <td>-0.709675</td>\n",
       "      <td>-0.115121</td>\n",
       "      <td>-0.827291</td>\n",
       "      <td>2.601246</td>\n",
       "    </tr>\n",
       "  </tbody>\n",
       "</table>\n",
       "</div>"
      ],
      "text/plain": [
       "          W         E         R         T         Y      baru\n",
       "A  1.426067  0.541531 -1.323307 -0.528868  0.566311  1.560190\n",
       "B  0.231581  0.987193 -0.111767  0.999995 -1.657371  3.168337\n",
       "C -0.172430 -0.116511 -1.170728  0.972224 -0.522022  0.289453\n",
       "D -0.635587  0.145804  1.316187 -0.137117 -0.711095 -0.871256\n",
       "E  1.584238  0.610376 -0.709675 -0.115121 -0.827291  2.601246"
      ]
     },
     "execution_count": 20,
     "metadata": {},
     "output_type": "execute_result"
    }
   ],
   "source": [
    "df"
   ]
  },
  {
   "cell_type": "code",
   "execution_count": 21,
   "metadata": {},
   "outputs": [
    {
     "data": {
      "text/html": [
       "<div>\n",
       "<style scoped>\n",
       "    .dataframe tbody tr th:only-of-type {\n",
       "        vertical-align: middle;\n",
       "    }\n",
       "\n",
       "    .dataframe tbody tr th {\n",
       "        vertical-align: top;\n",
       "    }\n",
       "\n",
       "    .dataframe thead th {\n",
       "        text-align: right;\n",
       "    }\n",
       "</style>\n",
       "<table border=\"1\" class=\"dataframe\">\n",
       "  <thead>\n",
       "    <tr style=\"text-align: right;\">\n",
       "      <th></th>\n",
       "      <th>W</th>\n",
       "      <th>E</th>\n",
       "      <th>R</th>\n",
       "      <th>T</th>\n",
       "      <th>Y</th>\n",
       "      <th>baru</th>\n",
       "    </tr>\n",
       "  </thead>\n",
       "  <tbody>\n",
       "    <tr>\n",
       "      <th>B</th>\n",
       "      <td>0.231581</td>\n",
       "      <td>0.987193</td>\n",
       "      <td>-0.111767</td>\n",
       "      <td>0.999995</td>\n",
       "      <td>-1.657371</td>\n",
       "      <td>3.168337</td>\n",
       "    </tr>\n",
       "    <tr>\n",
       "      <th>C</th>\n",
       "      <td>-0.172430</td>\n",
       "      <td>-0.116511</td>\n",
       "      <td>-1.170728</td>\n",
       "      <td>0.972224</td>\n",
       "      <td>-0.522022</td>\n",
       "      <td>0.289453</td>\n",
       "    </tr>\n",
       "    <tr>\n",
       "      <th>D</th>\n",
       "      <td>-0.635587</td>\n",
       "      <td>0.145804</td>\n",
       "      <td>1.316187</td>\n",
       "      <td>-0.137117</td>\n",
       "      <td>-0.711095</td>\n",
       "      <td>-0.871256</td>\n",
       "    </tr>\n",
       "    <tr>\n",
       "      <th>E</th>\n",
       "      <td>1.584238</td>\n",
       "      <td>0.610376</td>\n",
       "      <td>-0.709675</td>\n",
       "      <td>-0.115121</td>\n",
       "      <td>-0.827291</td>\n",
       "      <td>2.601246</td>\n",
       "    </tr>\n",
       "  </tbody>\n",
       "</table>\n",
       "</div>"
      ],
      "text/plain": [
       "          W         E         R         T         Y      baru\n",
       "B  0.231581  0.987193 -0.111767  0.999995 -1.657371  3.168337\n",
       "C -0.172430 -0.116511 -1.170728  0.972224 -0.522022  0.289453\n",
       "D -0.635587  0.145804  1.316187 -0.137117 -0.711095 -0.871256\n",
       "E  1.584238  0.610376 -0.709675 -0.115121 -0.827291  2.601246"
      ]
     },
     "execution_count": 21,
     "metadata": {},
     "output_type": "execute_result"
    }
   ],
   "source": [
    "df.drop('A',axis=0,inplace=False)"
   ]
  },
  {
   "cell_type": "code",
   "execution_count": 22,
   "metadata": {},
   "outputs": [
    {
     "data": {
      "text/html": [
       "<div>\n",
       "<style scoped>\n",
       "    .dataframe tbody tr th:only-of-type {\n",
       "        vertical-align: middle;\n",
       "    }\n",
       "\n",
       "    .dataframe tbody tr th {\n",
       "        vertical-align: top;\n",
       "    }\n",
       "\n",
       "    .dataframe thead th {\n",
       "        text-align: right;\n",
       "    }\n",
       "</style>\n",
       "<table border=\"1\" class=\"dataframe\">\n",
       "  <thead>\n",
       "    <tr style=\"text-align: right;\">\n",
       "      <th></th>\n",
       "      <th>W</th>\n",
       "      <th>E</th>\n",
       "      <th>R</th>\n",
       "      <th>T</th>\n",
       "      <th>Y</th>\n",
       "      <th>baru</th>\n",
       "    </tr>\n",
       "  </thead>\n",
       "  <tbody>\n",
       "    <tr>\n",
       "      <th>A</th>\n",
       "      <td>1.426067</td>\n",
       "      <td>0.541531</td>\n",
       "      <td>-1.323307</td>\n",
       "      <td>-0.528868</td>\n",
       "      <td>0.566311</td>\n",
       "      <td>1.560190</td>\n",
       "    </tr>\n",
       "    <tr>\n",
       "      <th>B</th>\n",
       "      <td>0.231581</td>\n",
       "      <td>0.987193</td>\n",
       "      <td>-0.111767</td>\n",
       "      <td>0.999995</td>\n",
       "      <td>-1.657371</td>\n",
       "      <td>3.168337</td>\n",
       "    </tr>\n",
       "    <tr>\n",
       "      <th>C</th>\n",
       "      <td>-0.172430</td>\n",
       "      <td>-0.116511</td>\n",
       "      <td>-1.170728</td>\n",
       "      <td>0.972224</td>\n",
       "      <td>-0.522022</td>\n",
       "      <td>0.289453</td>\n",
       "    </tr>\n",
       "    <tr>\n",
       "      <th>D</th>\n",
       "      <td>-0.635587</td>\n",
       "      <td>0.145804</td>\n",
       "      <td>1.316187</td>\n",
       "      <td>-0.137117</td>\n",
       "      <td>-0.711095</td>\n",
       "      <td>-0.871256</td>\n",
       "    </tr>\n",
       "    <tr>\n",
       "      <th>E</th>\n",
       "      <td>1.584238</td>\n",
       "      <td>0.610376</td>\n",
       "      <td>-0.709675</td>\n",
       "      <td>-0.115121</td>\n",
       "      <td>-0.827291</td>\n",
       "      <td>2.601246</td>\n",
       "    </tr>\n",
       "  </tbody>\n",
       "</table>\n",
       "</div>"
      ],
      "text/plain": [
       "          W         E         R         T         Y      baru\n",
       "A  1.426067  0.541531 -1.323307 -0.528868  0.566311  1.560190\n",
       "B  0.231581  0.987193 -0.111767  0.999995 -1.657371  3.168337\n",
       "C -0.172430 -0.116511 -1.170728  0.972224 -0.522022  0.289453\n",
       "D -0.635587  0.145804  1.316187 -0.137117 -0.711095 -0.871256\n",
       "E  1.584238  0.610376 -0.709675 -0.115121 -0.827291  2.601246"
      ]
     },
     "execution_count": 22,
     "metadata": {},
     "output_type": "execute_result"
    }
   ],
   "source": [
    "df"
   ]
  },
  {
   "cell_type": "code",
   "execution_count": 23,
   "metadata": {},
   "outputs": [],
   "source": [
    "df.drop('A',axis=0,inplace=True)"
   ]
  },
  {
   "cell_type": "code",
   "execution_count": 24,
   "metadata": {},
   "outputs": [
    {
     "data": {
      "text/html": [
       "<div>\n",
       "<style scoped>\n",
       "    .dataframe tbody tr th:only-of-type {\n",
       "        vertical-align: middle;\n",
       "    }\n",
       "\n",
       "    .dataframe tbody tr th {\n",
       "        vertical-align: top;\n",
       "    }\n",
       "\n",
       "    .dataframe thead th {\n",
       "        text-align: right;\n",
       "    }\n",
       "</style>\n",
       "<table border=\"1\" class=\"dataframe\">\n",
       "  <thead>\n",
       "    <tr style=\"text-align: right;\">\n",
       "      <th></th>\n",
       "      <th>W</th>\n",
       "      <th>E</th>\n",
       "      <th>R</th>\n",
       "      <th>T</th>\n",
       "      <th>Y</th>\n",
       "      <th>baru</th>\n",
       "    </tr>\n",
       "  </thead>\n",
       "  <tbody>\n",
       "    <tr>\n",
       "      <th>B</th>\n",
       "      <td>0.231581</td>\n",
       "      <td>0.987193</td>\n",
       "      <td>-0.111767</td>\n",
       "      <td>0.999995</td>\n",
       "      <td>-1.657371</td>\n",
       "      <td>3.168337</td>\n",
       "    </tr>\n",
       "    <tr>\n",
       "      <th>C</th>\n",
       "      <td>-0.172430</td>\n",
       "      <td>-0.116511</td>\n",
       "      <td>-1.170728</td>\n",
       "      <td>0.972224</td>\n",
       "      <td>-0.522022</td>\n",
       "      <td>0.289453</td>\n",
       "    </tr>\n",
       "    <tr>\n",
       "      <th>D</th>\n",
       "      <td>-0.635587</td>\n",
       "      <td>0.145804</td>\n",
       "      <td>1.316187</td>\n",
       "      <td>-0.137117</td>\n",
       "      <td>-0.711095</td>\n",
       "      <td>-0.871256</td>\n",
       "    </tr>\n",
       "    <tr>\n",
       "      <th>E</th>\n",
       "      <td>1.584238</td>\n",
       "      <td>0.610376</td>\n",
       "      <td>-0.709675</td>\n",
       "      <td>-0.115121</td>\n",
       "      <td>-0.827291</td>\n",
       "      <td>2.601246</td>\n",
       "    </tr>\n",
       "  </tbody>\n",
       "</table>\n",
       "</div>"
      ],
      "text/plain": [
       "          W         E         R         T         Y      baru\n",
       "B  0.231581  0.987193 -0.111767  0.999995 -1.657371  3.168337\n",
       "C -0.172430 -0.116511 -1.170728  0.972224 -0.522022  0.289453\n",
       "D -0.635587  0.145804  1.316187 -0.137117 -0.711095 -0.871256\n",
       "E  1.584238  0.610376 -0.709675 -0.115121 -0.827291  2.601246"
      ]
     },
     "execution_count": 24,
     "metadata": {},
     "output_type": "execute_result"
    }
   ],
   "source": [
    "df"
   ]
  },
  {
   "cell_type": "code",
   "execution_count": 25,
   "metadata": {},
   "outputs": [
    {
     "data": {
      "text/plain": [
       "B    0.987193\n",
       "C   -0.116511\n",
       "D    0.145804\n",
       "E    0.610376\n",
       "Name: E, dtype: float64"
      ]
     },
     "execution_count": 25,
     "metadata": {},
     "output_type": "execute_result"
    }
   ],
   "source": [
    "df['E']"
   ]
  },
  {
   "cell_type": "code",
   "execution_count": 26,
   "metadata": {},
   "outputs": [
    {
     "data": {
      "text/plain": [
       "W      -0.172430\n",
       "E      -0.116511\n",
       "R      -1.170728\n",
       "T       0.972224\n",
       "Y      -0.522022\n",
       "baru    0.289453\n",
       "Name: C, dtype: float64"
      ]
     },
     "execution_count": 26,
     "metadata": {},
     "output_type": "execute_result"
    }
   ],
   "source": [
    "df.loc['C']"
   ]
  },
  {
   "cell_type": "code",
   "execution_count": 27,
   "metadata": {},
   "outputs": [
    {
     "data": {
      "text/plain": [
       "W      -0.635587\n",
       "E       0.145804\n",
       "R       1.316187\n",
       "T      -0.137117\n",
       "Y      -0.711095\n",
       "baru   -0.871256\n",
       "Name: D, dtype: float64"
      ]
     },
     "execution_count": 27,
     "metadata": {},
     "output_type": "execute_result"
    }
   ],
   "source": [
    "df.iloc[2]"
   ]
  },
  {
   "cell_type": "code",
   "execution_count": 28,
   "metadata": {},
   "outputs": [
    {
     "data": {
      "text/html": [
       "<div>\n",
       "<style scoped>\n",
       "    .dataframe tbody tr th:only-of-type {\n",
       "        vertical-align: middle;\n",
       "    }\n",
       "\n",
       "    .dataframe tbody tr th {\n",
       "        vertical-align: top;\n",
       "    }\n",
       "\n",
       "    .dataframe thead th {\n",
       "        text-align: right;\n",
       "    }\n",
       "</style>\n",
       "<table border=\"1\" class=\"dataframe\">\n",
       "  <thead>\n",
       "    <tr style=\"text-align: right;\">\n",
       "      <th></th>\n",
       "      <th>W</th>\n",
       "      <th>E</th>\n",
       "      <th>R</th>\n",
       "      <th>T</th>\n",
       "      <th>Y</th>\n",
       "      <th>baru</th>\n",
       "    </tr>\n",
       "  </thead>\n",
       "  <tbody>\n",
       "    <tr>\n",
       "      <th>B</th>\n",
       "      <td>0.231581</td>\n",
       "      <td>0.987193</td>\n",
       "      <td>-0.111767</td>\n",
       "      <td>0.999995</td>\n",
       "      <td>-1.657371</td>\n",
       "      <td>3.168337</td>\n",
       "    </tr>\n",
       "    <tr>\n",
       "      <th>D</th>\n",
       "      <td>-0.635587</td>\n",
       "      <td>0.145804</td>\n",
       "      <td>1.316187</td>\n",
       "      <td>-0.137117</td>\n",
       "      <td>-0.711095</td>\n",
       "      <td>-0.871256</td>\n",
       "    </tr>\n",
       "    <tr>\n",
       "      <th>E</th>\n",
       "      <td>1.584238</td>\n",
       "      <td>0.610376</td>\n",
       "      <td>-0.709675</td>\n",
       "      <td>-0.115121</td>\n",
       "      <td>-0.827291</td>\n",
       "      <td>2.601246</td>\n",
       "    </tr>\n",
       "  </tbody>\n",
       "</table>\n",
       "</div>"
      ],
      "text/plain": [
       "          W         E         R         T         Y      baru\n",
       "B  0.231581  0.987193 -0.111767  0.999995 -1.657371  3.168337\n",
       "D -0.635587  0.145804  1.316187 -0.137117 -0.711095 -0.871256\n",
       "E  1.584238  0.610376 -0.709675 -0.115121 -0.827291  2.601246"
      ]
     },
     "execution_count": 28,
     "metadata": {},
     "output_type": "execute_result"
    }
   ],
   "source": [
    "df.loc[['B','D','E']]"
   ]
  },
  {
   "cell_type": "code",
   "execution_count": 29,
   "metadata": {},
   "outputs": [
    {
     "data": {
      "text/html": [
       "<div>\n",
       "<style scoped>\n",
       "    .dataframe tbody tr th:only-of-type {\n",
       "        vertical-align: middle;\n",
       "    }\n",
       "\n",
       "    .dataframe tbody tr th {\n",
       "        vertical-align: top;\n",
       "    }\n",
       "\n",
       "    .dataframe thead th {\n",
       "        text-align: right;\n",
       "    }\n",
       "</style>\n",
       "<table border=\"1\" class=\"dataframe\">\n",
       "  <thead>\n",
       "    <tr style=\"text-align: right;\">\n",
       "      <th></th>\n",
       "      <th>T</th>\n",
       "    </tr>\n",
       "  </thead>\n",
       "  <tbody>\n",
       "    <tr>\n",
       "      <th>D</th>\n",
       "      <td>-0.137117</td>\n",
       "    </tr>\n",
       "  </tbody>\n",
       "</table>\n",
       "</div>"
      ],
      "text/plain": [
       "          T\n",
       "D -0.137117"
      ]
     },
     "execution_count": 29,
     "metadata": {},
     "output_type": "execute_result"
    }
   ],
   "source": [
    "df.loc[['D'],['T']]"
   ]
  },
  {
   "cell_type": "code",
   "execution_count": 30,
   "metadata": {},
   "outputs": [
    {
     "data": {
      "text/html": [
       "<div>\n",
       "<style scoped>\n",
       "    .dataframe tbody tr th:only-of-type {\n",
       "        vertical-align: middle;\n",
       "    }\n",
       "\n",
       "    .dataframe tbody tr th {\n",
       "        vertical-align: top;\n",
       "    }\n",
       "\n",
       "    .dataframe thead th {\n",
       "        text-align: right;\n",
       "    }\n",
       "</style>\n",
       "<table border=\"1\" class=\"dataframe\">\n",
       "  <thead>\n",
       "    <tr style=\"text-align: right;\">\n",
       "      <th></th>\n",
       "      <th>R</th>\n",
       "      <th>T</th>\n",
       "    </tr>\n",
       "  </thead>\n",
       "  <tbody>\n",
       "    <tr>\n",
       "      <th>B</th>\n",
       "      <td>-0.111767</td>\n",
       "      <td>0.999995</td>\n",
       "    </tr>\n",
       "    <tr>\n",
       "      <th>D</th>\n",
       "      <td>1.316187</td>\n",
       "      <td>-0.137117</td>\n",
       "    </tr>\n",
       "  </tbody>\n",
       "</table>\n",
       "</div>"
      ],
      "text/plain": [
       "          R         T\n",
       "B -0.111767  0.999995\n",
       "D  1.316187 -0.137117"
      ]
     },
     "execution_count": 30,
     "metadata": {},
     "output_type": "execute_result"
    }
   ],
   "source": [
    "df.loc[['B','D'],['R','T']]"
   ]
  },
  {
   "cell_type": "code",
   "execution_count": 31,
   "metadata": {},
   "outputs": [
    {
     "data": {
      "text/html": [
       "<div>\n",
       "<style scoped>\n",
       "    .dataframe tbody tr th:only-of-type {\n",
       "        vertical-align: middle;\n",
       "    }\n",
       "\n",
       "    .dataframe tbody tr th {\n",
       "        vertical-align: top;\n",
       "    }\n",
       "\n",
       "    .dataframe thead th {\n",
       "        text-align: right;\n",
       "    }\n",
       "</style>\n",
       "<table border=\"1\" class=\"dataframe\">\n",
       "  <thead>\n",
       "    <tr style=\"text-align: right;\">\n",
       "      <th></th>\n",
       "      <th>W</th>\n",
       "      <th>E</th>\n",
       "      <th>R</th>\n",
       "      <th>T</th>\n",
       "      <th>Y</th>\n",
       "      <th>baru</th>\n",
       "    </tr>\n",
       "  </thead>\n",
       "  <tbody>\n",
       "    <tr>\n",
       "      <th>B</th>\n",
       "      <td>True</td>\n",
       "      <td>True</td>\n",
       "      <td>False</td>\n",
       "      <td>True</td>\n",
       "      <td>False</td>\n",
       "      <td>True</td>\n",
       "    </tr>\n",
       "    <tr>\n",
       "      <th>C</th>\n",
       "      <td>False</td>\n",
       "      <td>False</td>\n",
       "      <td>False</td>\n",
       "      <td>True</td>\n",
       "      <td>False</td>\n",
       "      <td>True</td>\n",
       "    </tr>\n",
       "    <tr>\n",
       "      <th>D</th>\n",
       "      <td>False</td>\n",
       "      <td>True</td>\n",
       "      <td>True</td>\n",
       "      <td>False</td>\n",
       "      <td>False</td>\n",
       "      <td>False</td>\n",
       "    </tr>\n",
       "    <tr>\n",
       "      <th>E</th>\n",
       "      <td>True</td>\n",
       "      <td>True</td>\n",
       "      <td>False</td>\n",
       "      <td>False</td>\n",
       "      <td>False</td>\n",
       "      <td>True</td>\n",
       "    </tr>\n",
       "  </tbody>\n",
       "</table>\n",
       "</div>"
      ],
      "text/plain": [
       "       W      E      R      T      Y   baru\n",
       "B   True   True  False   True  False   True\n",
       "C  False  False  False   True  False   True\n",
       "D  False   True   True  False  False  False\n",
       "E   True   True  False  False  False   True"
      ]
     },
     "execution_count": 31,
     "metadata": {},
     "output_type": "execute_result"
    }
   ],
   "source": [
    "df>0"
   ]
  },
  {
   "cell_type": "code",
   "execution_count": 32,
   "metadata": {},
   "outputs": [
    {
     "data": {
      "text/html": [
       "<div>\n",
       "<style scoped>\n",
       "    .dataframe tbody tr th:only-of-type {\n",
       "        vertical-align: middle;\n",
       "    }\n",
       "\n",
       "    .dataframe tbody tr th {\n",
       "        vertical-align: top;\n",
       "    }\n",
       "\n",
       "    .dataframe thead th {\n",
       "        text-align: right;\n",
       "    }\n",
       "</style>\n",
       "<table border=\"1\" class=\"dataframe\">\n",
       "  <thead>\n",
       "    <tr style=\"text-align: right;\">\n",
       "      <th></th>\n",
       "      <th>W</th>\n",
       "      <th>E</th>\n",
       "      <th>R</th>\n",
       "      <th>T</th>\n",
       "      <th>Y</th>\n",
       "      <th>baru</th>\n",
       "    </tr>\n",
       "  </thead>\n",
       "  <tbody>\n",
       "    <tr>\n",
       "      <th>B</th>\n",
       "      <td>0.231581</td>\n",
       "      <td>0.987193</td>\n",
       "      <td>NaN</td>\n",
       "      <td>0.999995</td>\n",
       "      <td>NaN</td>\n",
       "      <td>3.168337</td>\n",
       "    </tr>\n",
       "    <tr>\n",
       "      <th>C</th>\n",
       "      <td>NaN</td>\n",
       "      <td>NaN</td>\n",
       "      <td>NaN</td>\n",
       "      <td>0.972224</td>\n",
       "      <td>NaN</td>\n",
       "      <td>0.289453</td>\n",
       "    </tr>\n",
       "    <tr>\n",
       "      <th>D</th>\n",
       "      <td>NaN</td>\n",
       "      <td>0.145804</td>\n",
       "      <td>1.316187</td>\n",
       "      <td>NaN</td>\n",
       "      <td>NaN</td>\n",
       "      <td>NaN</td>\n",
       "    </tr>\n",
       "    <tr>\n",
       "      <th>E</th>\n",
       "      <td>1.584238</td>\n",
       "      <td>0.610376</td>\n",
       "      <td>NaN</td>\n",
       "      <td>NaN</td>\n",
       "      <td>NaN</td>\n",
       "      <td>2.601246</td>\n",
       "    </tr>\n",
       "  </tbody>\n",
       "</table>\n",
       "</div>"
      ],
      "text/plain": [
       "          W         E         R         T   Y      baru\n",
       "B  0.231581  0.987193       NaN  0.999995 NaN  3.168337\n",
       "C       NaN       NaN       NaN  0.972224 NaN  0.289453\n",
       "D       NaN  0.145804  1.316187       NaN NaN       NaN\n",
       "E  1.584238  0.610376       NaN       NaN NaN  2.601246"
      ]
     },
     "execution_count": 32,
     "metadata": {},
     "output_type": "execute_result"
    }
   ],
   "source": [
    "df[df>0]"
   ]
  },
  {
   "cell_type": "code",
   "execution_count": 33,
   "metadata": {},
   "outputs": [
    {
     "data": {
      "text/html": [
       "<div>\n",
       "<style scoped>\n",
       "    .dataframe tbody tr th:only-of-type {\n",
       "        vertical-align: middle;\n",
       "    }\n",
       "\n",
       "    .dataframe tbody tr th {\n",
       "        vertical-align: top;\n",
       "    }\n",
       "\n",
       "    .dataframe thead th {\n",
       "        text-align: right;\n",
       "    }\n",
       "</style>\n",
       "<table border=\"1\" class=\"dataframe\">\n",
       "  <thead>\n",
       "    <tr style=\"text-align: right;\">\n",
       "      <th></th>\n",
       "      <th>W</th>\n",
       "      <th>E</th>\n",
       "      <th>R</th>\n",
       "      <th>T</th>\n",
       "      <th>Y</th>\n",
       "      <th>baru</th>\n",
       "    </tr>\n",
       "  </thead>\n",
       "  <tbody>\n",
       "    <tr>\n",
       "      <th>B</th>\n",
       "      <td>0.231581</td>\n",
       "      <td>0.987193</td>\n",
       "      <td>-0.111767</td>\n",
       "      <td>0.999995</td>\n",
       "      <td>-1.657371</td>\n",
       "      <td>3.168337</td>\n",
       "    </tr>\n",
       "    <tr>\n",
       "      <th>C</th>\n",
       "      <td>-0.172430</td>\n",
       "      <td>-0.116511</td>\n",
       "      <td>-1.170728</td>\n",
       "      <td>0.972224</td>\n",
       "      <td>-0.522022</td>\n",
       "      <td>0.289453</td>\n",
       "    </tr>\n",
       "  </tbody>\n",
       "</table>\n",
       "</div>"
      ],
      "text/plain": [
       "          W         E         R         T         Y      baru\n",
       "B  0.231581  0.987193 -0.111767  0.999995 -1.657371  3.168337\n",
       "C -0.172430 -0.116511 -1.170728  0.972224 -0.522022  0.289453"
      ]
     },
     "execution_count": 33,
     "metadata": {},
     "output_type": "execute_result"
    }
   ],
   "source": [
    "df[df['T']>0]"
   ]
  },
  {
   "cell_type": "code",
   "execution_count": 34,
   "metadata": {},
   "outputs": [
    {
     "data": {
      "text/plain": [
       "B   -1.657371\n",
       "C   -0.522022\n",
       "Name: Y, dtype: float64"
      ]
     },
     "execution_count": 34,
     "metadata": {},
     "output_type": "execute_result"
    }
   ],
   "source": [
    "df[df['T']>0]['Y']"
   ]
  },
  {
   "cell_type": "code",
   "execution_count": 35,
   "metadata": {},
   "outputs": [
    {
     "data": {
      "text/html": [
       "<div>\n",
       "<style scoped>\n",
       "    .dataframe tbody tr th:only-of-type {\n",
       "        vertical-align: middle;\n",
       "    }\n",
       "\n",
       "    .dataframe tbody tr th {\n",
       "        vertical-align: top;\n",
       "    }\n",
       "\n",
       "    .dataframe thead th {\n",
       "        text-align: right;\n",
       "    }\n",
       "</style>\n",
       "<table border=\"1\" class=\"dataframe\">\n",
       "  <thead>\n",
       "    <tr style=\"text-align: right;\">\n",
       "      <th></th>\n",
       "      <th>W</th>\n",
       "      <th>E</th>\n",
       "      <th>R</th>\n",
       "      <th>T</th>\n",
       "      <th>Y</th>\n",
       "      <th>baru</th>\n",
       "    </tr>\n",
       "  </thead>\n",
       "  <tbody>\n",
       "  </tbody>\n",
       "</table>\n",
       "</div>"
      ],
      "text/plain": [
       "Empty DataFrame\n",
       "Columns: [W, E, R, T, Y, baru]\n",
       "Index: []"
      ]
     },
     "execution_count": 35,
     "metadata": {},
     "output_type": "execute_result"
    }
   ],
   "source": [
    "df[(df['R']>1) & (df['T']>0)]"
   ]
  },
  {
   "cell_type": "code",
   "execution_count": 36,
   "metadata": {},
   "outputs": [
    {
     "data": {
      "text/html": [
       "<div>\n",
       "<style scoped>\n",
       "    .dataframe tbody tr th:only-of-type {\n",
       "        vertical-align: middle;\n",
       "    }\n",
       "\n",
       "    .dataframe tbody tr th {\n",
       "        vertical-align: top;\n",
       "    }\n",
       "\n",
       "    .dataframe thead th {\n",
       "        text-align: right;\n",
       "    }\n",
       "</style>\n",
       "<table border=\"1\" class=\"dataframe\">\n",
       "  <thead>\n",
       "    <tr style=\"text-align: right;\">\n",
       "      <th></th>\n",
       "      <th>W</th>\n",
       "      <th>E</th>\n",
       "      <th>R</th>\n",
       "      <th>T</th>\n",
       "      <th>Y</th>\n",
       "      <th>baru</th>\n",
       "    </tr>\n",
       "  </thead>\n",
       "  <tbody>\n",
       "    <tr>\n",
       "      <th>B</th>\n",
       "      <td>0.231581</td>\n",
       "      <td>0.987193</td>\n",
       "      <td>-0.111767</td>\n",
       "      <td>0.999995</td>\n",
       "      <td>-1.657371</td>\n",
       "      <td>3.168337</td>\n",
       "    </tr>\n",
       "    <tr>\n",
       "      <th>C</th>\n",
       "      <td>-0.172430</td>\n",
       "      <td>-0.116511</td>\n",
       "      <td>-1.170728</td>\n",
       "      <td>0.972224</td>\n",
       "      <td>-0.522022</td>\n",
       "      <td>0.289453</td>\n",
       "    </tr>\n",
       "    <tr>\n",
       "      <th>D</th>\n",
       "      <td>-0.635587</td>\n",
       "      <td>0.145804</td>\n",
       "      <td>1.316187</td>\n",
       "      <td>-0.137117</td>\n",
       "      <td>-0.711095</td>\n",
       "      <td>-0.871256</td>\n",
       "    </tr>\n",
       "    <tr>\n",
       "      <th>E</th>\n",
       "      <td>1.584238</td>\n",
       "      <td>0.610376</td>\n",
       "      <td>-0.709675</td>\n",
       "      <td>-0.115121</td>\n",
       "      <td>-0.827291</td>\n",
       "      <td>2.601246</td>\n",
       "    </tr>\n",
       "  </tbody>\n",
       "</table>\n",
       "</div>"
      ],
      "text/plain": [
       "          W         E         R         T         Y      baru\n",
       "B  0.231581  0.987193 -0.111767  0.999995 -1.657371  3.168337\n",
       "C -0.172430 -0.116511 -1.170728  0.972224 -0.522022  0.289453\n",
       "D -0.635587  0.145804  1.316187 -0.137117 -0.711095 -0.871256\n",
       "E  1.584238  0.610376 -0.709675 -0.115121 -0.827291  2.601246"
      ]
     },
     "execution_count": 36,
     "metadata": {},
     "output_type": "execute_result"
    }
   ],
   "source": [
    "df"
   ]
  },
  {
   "cell_type": "code",
   "execution_count": 37,
   "metadata": {},
   "outputs": [
    {
     "data": {
      "text/html": [
       "<div>\n",
       "<style scoped>\n",
       "    .dataframe tbody tr th:only-of-type {\n",
       "        vertical-align: middle;\n",
       "    }\n",
       "\n",
       "    .dataframe tbody tr th {\n",
       "        vertical-align: top;\n",
       "    }\n",
       "\n",
       "    .dataframe thead th {\n",
       "        text-align: right;\n",
       "    }\n",
       "</style>\n",
       "<table border=\"1\" class=\"dataframe\">\n",
       "  <thead>\n",
       "    <tr style=\"text-align: right;\">\n",
       "      <th></th>\n",
       "      <th>W</th>\n",
       "      <th>E</th>\n",
       "      <th>R</th>\n",
       "      <th>T</th>\n",
       "      <th>Y</th>\n",
       "      <th>baru</th>\n",
       "    </tr>\n",
       "  </thead>\n",
       "  <tbody>\n",
       "  </tbody>\n",
       "</table>\n",
       "</div>"
      ],
      "text/plain": [
       "Empty DataFrame\n",
       "Columns: [W, E, R, T, Y, baru]\n",
       "Index: []"
      ]
     },
     "execution_count": 37,
     "metadata": {},
     "output_type": "execute_result"
    }
   ],
   "source": [
    "df[(df['R']>0) & (df['Y']>0)]"
   ]
  },
  {
   "cell_type": "code",
   "execution_count": 38,
   "metadata": {},
   "outputs": [
    {
     "data": {
      "text/html": [
       "<div>\n",
       "<style scoped>\n",
       "    .dataframe tbody tr th:only-of-type {\n",
       "        vertical-align: middle;\n",
       "    }\n",
       "\n",
       "    .dataframe tbody tr th {\n",
       "        vertical-align: top;\n",
       "    }\n",
       "\n",
       "    .dataframe thead th {\n",
       "        text-align: right;\n",
       "    }\n",
       "</style>\n",
       "<table border=\"1\" class=\"dataframe\">\n",
       "  <thead>\n",
       "    <tr style=\"text-align: right;\">\n",
       "      <th></th>\n",
       "      <th>index</th>\n",
       "      <th>W</th>\n",
       "      <th>E</th>\n",
       "      <th>R</th>\n",
       "      <th>T</th>\n",
       "      <th>Y</th>\n",
       "      <th>baru</th>\n",
       "    </tr>\n",
       "  </thead>\n",
       "  <tbody>\n",
       "    <tr>\n",
       "      <th>0</th>\n",
       "      <td>B</td>\n",
       "      <td>0.231581</td>\n",
       "      <td>0.987193</td>\n",
       "      <td>-0.111767</td>\n",
       "      <td>0.999995</td>\n",
       "      <td>-1.657371</td>\n",
       "      <td>3.168337</td>\n",
       "    </tr>\n",
       "    <tr>\n",
       "      <th>1</th>\n",
       "      <td>C</td>\n",
       "      <td>-0.172430</td>\n",
       "      <td>-0.116511</td>\n",
       "      <td>-1.170728</td>\n",
       "      <td>0.972224</td>\n",
       "      <td>-0.522022</td>\n",
       "      <td>0.289453</td>\n",
       "    </tr>\n",
       "    <tr>\n",
       "      <th>2</th>\n",
       "      <td>D</td>\n",
       "      <td>-0.635587</td>\n",
       "      <td>0.145804</td>\n",
       "      <td>1.316187</td>\n",
       "      <td>-0.137117</td>\n",
       "      <td>-0.711095</td>\n",
       "      <td>-0.871256</td>\n",
       "    </tr>\n",
       "    <tr>\n",
       "      <th>3</th>\n",
       "      <td>E</td>\n",
       "      <td>1.584238</td>\n",
       "      <td>0.610376</td>\n",
       "      <td>-0.709675</td>\n",
       "      <td>-0.115121</td>\n",
       "      <td>-0.827291</td>\n",
       "      <td>2.601246</td>\n",
       "    </tr>\n",
       "  </tbody>\n",
       "</table>\n",
       "</div>"
      ],
      "text/plain": [
       "  index         W         E         R         T         Y      baru\n",
       "0     B  0.231581  0.987193 -0.111767  0.999995 -1.657371  3.168337\n",
       "1     C -0.172430 -0.116511 -1.170728  0.972224 -0.522022  0.289453\n",
       "2     D -0.635587  0.145804  1.316187 -0.137117 -0.711095 -0.871256\n",
       "3     E  1.584238  0.610376 -0.709675 -0.115121 -0.827291  2.601246"
      ]
     },
     "execution_count": 38,
     "metadata": {},
     "output_type": "execute_result"
    }
   ],
   "source": [
    "#menghapusIndex\n",
    "df.reset_index()"
   ]
  },
  {
   "cell_type": "code",
   "execution_count": 39,
   "metadata": {},
   "outputs": [],
   "source": [
    "#Menambah kolum\n",
    "df['kode']='INA IND RUS JPN'.split()"
   ]
  },
  {
   "cell_type": "code",
   "execution_count": 40,
   "metadata": {},
   "outputs": [
    {
     "data": {
      "text/html": [
       "<div>\n",
       "<style scoped>\n",
       "    .dataframe tbody tr th:only-of-type {\n",
       "        vertical-align: middle;\n",
       "    }\n",
       "\n",
       "    .dataframe tbody tr th {\n",
       "        vertical-align: top;\n",
       "    }\n",
       "\n",
       "    .dataframe thead th {\n",
       "        text-align: right;\n",
       "    }\n",
       "</style>\n",
       "<table border=\"1\" class=\"dataframe\">\n",
       "  <thead>\n",
       "    <tr style=\"text-align: right;\">\n",
       "      <th></th>\n",
       "      <th>W</th>\n",
       "      <th>E</th>\n",
       "      <th>R</th>\n",
       "      <th>T</th>\n",
       "      <th>Y</th>\n",
       "      <th>baru</th>\n",
       "      <th>kode</th>\n",
       "    </tr>\n",
       "  </thead>\n",
       "  <tbody>\n",
       "    <tr>\n",
       "      <th>B</th>\n",
       "      <td>0.231581</td>\n",
       "      <td>0.987193</td>\n",
       "      <td>-0.111767</td>\n",
       "      <td>0.999995</td>\n",
       "      <td>-1.657371</td>\n",
       "      <td>3.168337</td>\n",
       "      <td>INA</td>\n",
       "    </tr>\n",
       "    <tr>\n",
       "      <th>C</th>\n",
       "      <td>-0.172430</td>\n",
       "      <td>-0.116511</td>\n",
       "      <td>-1.170728</td>\n",
       "      <td>0.972224</td>\n",
       "      <td>-0.522022</td>\n",
       "      <td>0.289453</td>\n",
       "      <td>IND</td>\n",
       "    </tr>\n",
       "    <tr>\n",
       "      <th>D</th>\n",
       "      <td>-0.635587</td>\n",
       "      <td>0.145804</td>\n",
       "      <td>1.316187</td>\n",
       "      <td>-0.137117</td>\n",
       "      <td>-0.711095</td>\n",
       "      <td>-0.871256</td>\n",
       "      <td>RUS</td>\n",
       "    </tr>\n",
       "    <tr>\n",
       "      <th>E</th>\n",
       "      <td>1.584238</td>\n",
       "      <td>0.610376</td>\n",
       "      <td>-0.709675</td>\n",
       "      <td>-0.115121</td>\n",
       "      <td>-0.827291</td>\n",
       "      <td>2.601246</td>\n",
       "      <td>JPN</td>\n",
       "    </tr>\n",
       "  </tbody>\n",
       "</table>\n",
       "</div>"
      ],
      "text/plain": [
       "          W         E         R         T         Y      baru kode\n",
       "B  0.231581  0.987193 -0.111767  0.999995 -1.657371  3.168337  INA\n",
       "C -0.172430 -0.116511 -1.170728  0.972224 -0.522022  0.289453  IND\n",
       "D -0.635587  0.145804  1.316187 -0.137117 -0.711095 -0.871256  RUS\n",
       "E  1.584238  0.610376 -0.709675 -0.115121 -0.827291  2.601246  JPN"
      ]
     },
     "execution_count": 40,
     "metadata": {},
     "output_type": "execute_result"
    }
   ],
   "source": [
    "df"
   ]
  },
  {
   "cell_type": "code",
   "execution_count": 41,
   "metadata": {},
   "outputs": [
    {
     "data": {
      "text/html": [
       "<div>\n",
       "<style scoped>\n",
       "    .dataframe tbody tr th:only-of-type {\n",
       "        vertical-align: middle;\n",
       "    }\n",
       "\n",
       "    .dataframe tbody tr th {\n",
       "        vertical-align: top;\n",
       "    }\n",
       "\n",
       "    .dataframe thead th {\n",
       "        text-align: right;\n",
       "    }\n",
       "</style>\n",
       "<table border=\"1\" class=\"dataframe\">\n",
       "  <thead>\n",
       "    <tr style=\"text-align: right;\">\n",
       "      <th></th>\n",
       "      <th>W</th>\n",
       "      <th>E</th>\n",
       "      <th>R</th>\n",
       "      <th>T</th>\n",
       "      <th>Y</th>\n",
       "      <th>baru</th>\n",
       "    </tr>\n",
       "    <tr>\n",
       "      <th>kode</th>\n",
       "      <th></th>\n",
       "      <th></th>\n",
       "      <th></th>\n",
       "      <th></th>\n",
       "      <th></th>\n",
       "      <th></th>\n",
       "    </tr>\n",
       "  </thead>\n",
       "  <tbody>\n",
       "    <tr>\n",
       "      <th>INA</th>\n",
       "      <td>0.231581</td>\n",
       "      <td>0.987193</td>\n",
       "      <td>-0.111767</td>\n",
       "      <td>0.999995</td>\n",
       "      <td>-1.657371</td>\n",
       "      <td>3.168337</td>\n",
       "    </tr>\n",
       "    <tr>\n",
       "      <th>IND</th>\n",
       "      <td>-0.172430</td>\n",
       "      <td>-0.116511</td>\n",
       "      <td>-1.170728</td>\n",
       "      <td>0.972224</td>\n",
       "      <td>-0.522022</td>\n",
       "      <td>0.289453</td>\n",
       "    </tr>\n",
       "    <tr>\n",
       "      <th>RUS</th>\n",
       "      <td>-0.635587</td>\n",
       "      <td>0.145804</td>\n",
       "      <td>1.316187</td>\n",
       "      <td>-0.137117</td>\n",
       "      <td>-0.711095</td>\n",
       "      <td>-0.871256</td>\n",
       "    </tr>\n",
       "    <tr>\n",
       "      <th>JPN</th>\n",
       "      <td>1.584238</td>\n",
       "      <td>0.610376</td>\n",
       "      <td>-0.709675</td>\n",
       "      <td>-0.115121</td>\n",
       "      <td>-0.827291</td>\n",
       "      <td>2.601246</td>\n",
       "    </tr>\n",
       "  </tbody>\n",
       "</table>\n",
       "</div>"
      ],
      "text/plain": [
       "             W         E         R         T         Y      baru\n",
       "kode                                                            \n",
       "INA   0.231581  0.987193 -0.111767  0.999995 -1.657371  3.168337\n",
       "IND  -0.172430 -0.116511 -1.170728  0.972224 -0.522022  0.289453\n",
       "RUS  -0.635587  0.145804  1.316187 -0.137117 -0.711095 -0.871256\n",
       "JPN   1.584238  0.610376 -0.709675 -0.115121 -0.827291  2.601246"
      ]
     },
     "execution_count": 41,
     "metadata": {},
     "output_type": "execute_result"
    }
   ],
   "source": [
    "df.set_index('kode')"
   ]
  },
  {
   "cell_type": "code",
   "execution_count": 45,
   "metadata": {},
   "outputs": [],
   "source": [
    "#membuat tabel multi index\n",
    "datalabels = ['G1','G1','G1','G2','G2','G2'] #data array\n",
    "datavalue = [1,2,3,1,2,3]\n",
    "data = list(zip(datalabels,datavalue))\n",
    "\n",
    "data = pd.MultiIndex.from_tuples(data)"
   ]
  },
  {
   "cell_type": "code",
   "execution_count": 46,
   "metadata": {},
   "outputs": [
    {
     "data": {
      "text/plain": [
       "MultiIndex([('G1', 1),\n",
       "            ('G1', 2),\n",
       "            ('G1', 3),\n",
       "            ('G2', 1),\n",
       "            ('G2', 2),\n",
       "            ('G2', 3)],\n",
       "           )"
      ]
     },
     "execution_count": 46,
     "metadata": {},
     "output_type": "execute_result"
    }
   ],
   "source": [
    "data"
   ]
  },
  {
   "cell_type": "code",
   "execution_count": 48,
   "metadata": {},
   "outputs": [],
   "source": [
    "tabelmulti = pd.DataFrame(np.random.randn(6,2),index=data,columns='A B'.split())"
   ]
  },
  {
   "cell_type": "code",
   "execution_count": 49,
   "metadata": {},
   "outputs": [
    {
     "data": {
      "text/html": [
       "<div>\n",
       "<style scoped>\n",
       "    .dataframe tbody tr th:only-of-type {\n",
       "        vertical-align: middle;\n",
       "    }\n",
       "\n",
       "    .dataframe tbody tr th {\n",
       "        vertical-align: top;\n",
       "    }\n",
       "\n",
       "    .dataframe thead th {\n",
       "        text-align: right;\n",
       "    }\n",
       "</style>\n",
       "<table border=\"1\" class=\"dataframe\">\n",
       "  <thead>\n",
       "    <tr style=\"text-align: right;\">\n",
       "      <th></th>\n",
       "      <th></th>\n",
       "      <th>A</th>\n",
       "      <th>B</th>\n",
       "    </tr>\n",
       "  </thead>\n",
       "  <tbody>\n",
       "    <tr>\n",
       "      <th rowspan=\"3\" valign=\"top\">G1</th>\n",
       "      <th>1</th>\n",
       "      <td>-0.290223</td>\n",
       "      <td>-0.920800</td>\n",
       "    </tr>\n",
       "    <tr>\n",
       "      <th>2</th>\n",
       "      <td>-0.886485</td>\n",
       "      <td>-0.619581</td>\n",
       "    </tr>\n",
       "    <tr>\n",
       "      <th>3</th>\n",
       "      <td>-0.358852</td>\n",
       "      <td>-0.122265</td>\n",
       "    </tr>\n",
       "    <tr>\n",
       "      <th rowspan=\"3\" valign=\"top\">G2</th>\n",
       "      <th>1</th>\n",
       "      <td>-0.538899</td>\n",
       "      <td>-0.641307</td>\n",
       "    </tr>\n",
       "    <tr>\n",
       "      <th>2</th>\n",
       "      <td>-1.268700</td>\n",
       "      <td>0.487142</td>\n",
       "    </tr>\n",
       "    <tr>\n",
       "      <th>3</th>\n",
       "      <td>0.499745</td>\n",
       "      <td>0.776857</td>\n",
       "    </tr>\n",
       "  </tbody>\n",
       "</table>\n",
       "</div>"
      ],
      "text/plain": [
       "             A         B\n",
       "G1 1 -0.290223 -0.920800\n",
       "   2 -0.886485 -0.619581\n",
       "   3 -0.358852 -0.122265\n",
       "G2 1 -0.538899 -0.641307\n",
       "   2 -1.268700  0.487142\n",
       "   3  0.499745  0.776857"
      ]
     },
     "execution_count": 49,
     "metadata": {},
     "output_type": "execute_result"
    }
   ],
   "source": [
    "tabelmulti"
   ]
  },
  {
   "cell_type": "code",
   "execution_count": 50,
   "metadata": {},
   "outputs": [
    {
     "data": {
      "text/plain": [
       "FrozenList([None, None])"
      ]
     },
     "execution_count": 50,
     "metadata": {},
     "output_type": "execute_result"
    }
   ],
   "source": [
    "tabelmulti.index.names"
   ]
  },
  {
   "cell_type": "code",
   "execution_count": 52,
   "metadata": {},
   "outputs": [],
   "source": [
    "tabelmulti.index.names='Grup No'.split()"
   ]
  },
  {
   "cell_type": "code",
   "execution_count": 53,
   "metadata": {},
   "outputs": [
    {
     "data": {
      "text/html": [
       "<div>\n",
       "<style scoped>\n",
       "    .dataframe tbody tr th:only-of-type {\n",
       "        vertical-align: middle;\n",
       "    }\n",
       "\n",
       "    .dataframe tbody tr th {\n",
       "        vertical-align: top;\n",
       "    }\n",
       "\n",
       "    .dataframe thead th {\n",
       "        text-align: right;\n",
       "    }\n",
       "</style>\n",
       "<table border=\"1\" class=\"dataframe\">\n",
       "  <thead>\n",
       "    <tr style=\"text-align: right;\">\n",
       "      <th></th>\n",
       "      <th></th>\n",
       "      <th>A</th>\n",
       "      <th>B</th>\n",
       "    </tr>\n",
       "    <tr>\n",
       "      <th>Grup</th>\n",
       "      <th>No</th>\n",
       "      <th></th>\n",
       "      <th></th>\n",
       "    </tr>\n",
       "  </thead>\n",
       "  <tbody>\n",
       "    <tr>\n",
       "      <th rowspan=\"3\" valign=\"top\">G1</th>\n",
       "      <th>1</th>\n",
       "      <td>-0.290223</td>\n",
       "      <td>-0.920800</td>\n",
       "    </tr>\n",
       "    <tr>\n",
       "      <th>2</th>\n",
       "      <td>-0.886485</td>\n",
       "      <td>-0.619581</td>\n",
       "    </tr>\n",
       "    <tr>\n",
       "      <th>3</th>\n",
       "      <td>-0.358852</td>\n",
       "      <td>-0.122265</td>\n",
       "    </tr>\n",
       "    <tr>\n",
       "      <th rowspan=\"3\" valign=\"top\">G2</th>\n",
       "      <th>1</th>\n",
       "      <td>-0.538899</td>\n",
       "      <td>-0.641307</td>\n",
       "    </tr>\n",
       "    <tr>\n",
       "      <th>2</th>\n",
       "      <td>-1.268700</td>\n",
       "      <td>0.487142</td>\n",
       "    </tr>\n",
       "    <tr>\n",
       "      <th>3</th>\n",
       "      <td>0.499745</td>\n",
       "      <td>0.776857</td>\n",
       "    </tr>\n",
       "  </tbody>\n",
       "</table>\n",
       "</div>"
      ],
      "text/plain": [
       "                A         B\n",
       "Grup No                    \n",
       "G1   1  -0.290223 -0.920800\n",
       "     2  -0.886485 -0.619581\n",
       "     3  -0.358852 -0.122265\n",
       "G2   1  -0.538899 -0.641307\n",
       "     2  -1.268700  0.487142\n",
       "     3   0.499745  0.776857"
      ]
     },
     "execution_count": 53,
     "metadata": {},
     "output_type": "execute_result"
    }
   ],
   "source": [
    "tabelmulti"
   ]
  },
  {
   "cell_type": "code",
   "execution_count": 54,
   "metadata": {},
   "outputs": [
    {
     "data": {
      "text/html": [
       "<div>\n",
       "<style scoped>\n",
       "    .dataframe tbody tr th:only-of-type {\n",
       "        vertical-align: middle;\n",
       "    }\n",
       "\n",
       "    .dataframe tbody tr th {\n",
       "        vertical-align: top;\n",
       "    }\n",
       "\n",
       "    .dataframe thead th {\n",
       "        text-align: right;\n",
       "    }\n",
       "</style>\n",
       "<table border=\"1\" class=\"dataframe\">\n",
       "  <thead>\n",
       "    <tr style=\"text-align: right;\">\n",
       "      <th></th>\n",
       "      <th>A</th>\n",
       "      <th>B</th>\n",
       "    </tr>\n",
       "    <tr>\n",
       "      <th>No</th>\n",
       "      <th></th>\n",
       "      <th></th>\n",
       "    </tr>\n",
       "  </thead>\n",
       "  <tbody>\n",
       "    <tr>\n",
       "      <th>1</th>\n",
       "      <td>-0.290223</td>\n",
       "      <td>-0.920800</td>\n",
       "    </tr>\n",
       "    <tr>\n",
       "      <th>2</th>\n",
       "      <td>-0.886485</td>\n",
       "      <td>-0.619581</td>\n",
       "    </tr>\n",
       "    <tr>\n",
       "      <th>3</th>\n",
       "      <td>-0.358852</td>\n",
       "      <td>-0.122265</td>\n",
       "    </tr>\n",
       "  </tbody>\n",
       "</table>\n",
       "</div>"
      ],
      "text/plain": [
       "           A         B\n",
       "No                    \n",
       "1  -0.290223 -0.920800\n",
       "2  -0.886485 -0.619581\n",
       "3  -0.358852 -0.122265"
      ]
     },
     "execution_count": 54,
     "metadata": {},
     "output_type": "execute_result"
    }
   ],
   "source": [
    "#memanggil data berindex G1\n",
    "tabelmulti.loc['G1']"
   ]
  },
  {
   "cell_type": "code",
   "execution_count": 55,
   "metadata": {},
   "outputs": [
    {
     "data": {
      "text/html": [
       "<div>\n",
       "<style scoped>\n",
       "    .dataframe tbody tr th:only-of-type {\n",
       "        vertical-align: middle;\n",
       "    }\n",
       "\n",
       "    .dataframe tbody tr th {\n",
       "        vertical-align: top;\n",
       "    }\n",
       "\n",
       "    .dataframe thead th {\n",
       "        text-align: right;\n",
       "    }\n",
       "</style>\n",
       "<table border=\"1\" class=\"dataframe\">\n",
       "  <thead>\n",
       "    <tr style=\"text-align: right;\">\n",
       "      <th></th>\n",
       "      <th>A</th>\n",
       "      <th>B</th>\n",
       "    </tr>\n",
       "    <tr>\n",
       "      <th>No</th>\n",
       "      <th></th>\n",
       "      <th></th>\n",
       "    </tr>\n",
       "  </thead>\n",
       "  <tbody>\n",
       "    <tr>\n",
       "      <th>1</th>\n",
       "      <td>-0.290223</td>\n",
       "      <td>-0.920800</td>\n",
       "    </tr>\n",
       "    <tr>\n",
       "      <th>2</th>\n",
       "      <td>-0.886485</td>\n",
       "      <td>-0.619581</td>\n",
       "    </tr>\n",
       "    <tr>\n",
       "      <th>3</th>\n",
       "      <td>-0.358852</td>\n",
       "      <td>-0.122265</td>\n",
       "    </tr>\n",
       "  </tbody>\n",
       "</table>\n",
       "</div>"
      ],
      "text/plain": [
       "           A         B\n",
       "No                    \n",
       "1  -0.290223 -0.920800\n",
       "2  -0.886485 -0.619581\n",
       "3  -0.358852 -0.122265"
      ]
     },
     "execution_count": 55,
     "metadata": {},
     "output_type": "execute_result"
    }
   ],
   "source": [
    "tabelmulti.xs('G1')"
   ]
  },
  {
   "cell_type": "code",
   "execution_count": 56,
   "metadata": {},
   "outputs": [
    {
     "data": {
      "text/plain": [
       "A   -0.886485\n",
       "B   -0.619581\n",
       "Name: 2, dtype: float64"
      ]
     },
     "execution_count": 56,
     "metadata": {},
     "output_type": "execute_result"
    }
   ],
   "source": [
    "tabelmulti.loc['G1'].loc[2]"
   ]
  },
  {
   "cell_type": "code",
   "execution_count": 57,
   "metadata": {},
   "outputs": [
    {
     "data": {
      "text/plain": [
       "A   -0.538899\n",
       "B   -0.641307\n",
       "Name: (G2, 1), dtype: float64"
      ]
     },
     "execution_count": 57,
     "metadata": {},
     "output_type": "execute_result"
    }
   ],
   "source": [
    "tabelmulti.xs(['G2',1])"
   ]
  },
  {
   "cell_type": "code",
   "execution_count": 59,
   "metadata": {},
   "outputs": [
    {
     "data": {
      "text/html": [
       "<div>\n",
       "<style scoped>\n",
       "    .dataframe tbody tr th:only-of-type {\n",
       "        vertical-align: middle;\n",
       "    }\n",
       "\n",
       "    .dataframe tbody tr th {\n",
       "        vertical-align: top;\n",
       "    }\n",
       "\n",
       "    .dataframe thead th {\n",
       "        text-align: right;\n",
       "    }\n",
       "</style>\n",
       "<table border=\"1\" class=\"dataframe\">\n",
       "  <thead>\n",
       "    <tr style=\"text-align: right;\">\n",
       "      <th></th>\n",
       "      <th>A</th>\n",
       "      <th>B</th>\n",
       "    </tr>\n",
       "    <tr>\n",
       "      <th>Grup</th>\n",
       "      <th></th>\n",
       "      <th></th>\n",
       "    </tr>\n",
       "  </thead>\n",
       "  <tbody>\n",
       "    <tr>\n",
       "      <th>G1</th>\n",
       "      <td>-0.358852</td>\n",
       "      <td>-0.122265</td>\n",
       "    </tr>\n",
       "    <tr>\n",
       "      <th>G2</th>\n",
       "      <td>0.499745</td>\n",
       "      <td>0.776857</td>\n",
       "    </tr>\n",
       "  </tbody>\n",
       "</table>\n",
       "</div>"
      ],
      "text/plain": [
       "             A         B\n",
       "Grup                    \n",
       "G1   -0.358852 -0.122265\n",
       "G2    0.499745  0.776857"
      ]
     },
     "execution_count": 59,
     "metadata": {},
     "output_type": "execute_result"
    }
   ],
   "source": [
    "#memanggil nomor 3 di semua grup\n",
    "tabelmulti.xs(3,level='No')"
   ]
  },
  {
   "cell_type": "code",
   "execution_count": null,
   "metadata": {},
   "outputs": [],
   "source": []
  },
  {
   "cell_type": "code",
   "execution_count": null,
   "metadata": {},
   "outputs": [],
   "source": []
  }
 ],
 "metadata": {
  "kernelspec": {
   "display_name": "Python 3",
   "language": "python",
   "name": "python3"
  },
  "language_info": {
   "codemirror_mode": {
    "name": "ipython",
    "version": 3
   },
   "file_extension": ".py",
   "mimetype": "text/x-python",
   "name": "python",
   "nbconvert_exporter": "python",
   "pygments_lexer": "ipython3",
   "version": "3.8.3"
  }
 },
 "nbformat": 4,
 "nbformat_minor": 4
}
