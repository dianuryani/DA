{
 "cells": [
  {
   "cell_type": "code",
   "execution_count": 1,
   "metadata": {},
   "outputs": [],
   "source": [
    "data1 = [20,80,20,10,30,50]"
   ]
  },
  {
   "cell_type": "code",
   "execution_count": 2,
   "metadata": {},
   "outputs": [],
   "source": [
    "data2 = [10,20,70,80,10,20]"
   ]
  },
  {
   "cell_type": "code",
   "execution_count": 4,
   "metadata": {},
   "outputs": [
    {
     "data": {
      "text/plain": [
       "210"
      ]
     },
     "execution_count": 4,
     "metadata": {},
     "output_type": "execute_result"
    }
   ],
   "source": [
    "sum(data1)"
   ]
  },
  {
   "cell_type": "code",
   "execution_count": 5,
   "metadata": {},
   "outputs": [],
   "source": [
    "tabel_properti = {\n",
    "    'luas_tanah': [70, 70, 70, 100, 100, 100, 120, 120, 150, 150],\n",
    "    'luas_bangunan': [50, 60, 60, 50, 70, 70, 100, 80, 100, 90],\n",
    "    'jarak': [15, 30, 55, 30, 25, 50, 20, 50, 50, 15],\n",
    "    'harga': [500, 400, 300, 700, 1000, 650, 2000, 1200, 1800, 3000]\n",
    "}"
   ]
  },
  {
   "cell_type": "code",
   "execution_count": 11,
   "metadata": {},
   "outputs": [
    {
     "data": {
      "text/plain": [
       "dict_keys(['luas_tanah', 'luas_bangunan', 'jarak', 'harga'])"
      ]
     },
     "execution_count": 11,
     "metadata": {},
     "output_type": "execute_result"
    }
   ],
   "source": [
    "tabel_properti.keys()"
   ]
  },
  {
   "cell_type": "code",
   "execution_count": 17,
   "metadata": {},
   "outputs": [
    {
     "data": {
      "text/plain": [
       "dict_values([[70, 70, 70, 100, 100, 100, 120, 120, 150, 150], [50, 60, 60, 50, 70, 70, 100, 80, 100, 90], [15, 30, 55, 30, 25, 50, 20, 50, 50, 15], [500, 400, 300, 700, 1000, 650, 2000, 1200, 1800, 3000]])"
      ]
     },
     "execution_count": 17,
     "metadata": {},
     "output_type": "execute_result"
    }
   ],
   "source": [
    "tabel_properti.values()"
   ]
  },
  {
   "cell_type": "code",
   "execution_count": 22,
   "metadata": {},
   "outputs": [
    {
     "data": {
      "text/plain": [
       "[70, 70, 70, 100, 100, 100, 120, 120, 150, 150]"
      ]
     },
     "execution_count": 22,
     "metadata": {},
     "output_type": "execute_result"
    }
   ],
   "source": [
    "tabel_properti['luas_tanah']"
   ]
  },
  {
   "cell_type": "code",
   "execution_count": 31,
   "metadata": {},
   "outputs": [],
   "source": [
    "def deskripsi_properti(tabel_properti):\n",
    "    for key in tabel_properti:\n",
    "        print('Rata-rata'+key)"
   ]
  },
  {
   "cell_type": "code",
   "execution_count": 34,
   "metadata": {},
   "outputs": [
    {
     "name": "stdout",
     "output_type": "stream",
     "text": [
      "Rata-rataluas_tanah\n",
      "Rata-rataluas_bangunan\n",
      "Rata-ratajarak\n",
      "Rata-rataharga\n"
     ]
    }
   ],
   "source": [
    "deskripsi_properti(tabel_properti)"
   ]
  },
  {
   "cell_type": "code",
   "execution_count": 36,
   "metadata": {},
   "outputs": [
    {
     "name": "stdout",
     "output_type": "stream",
     "text": [
      "Rata-rata luas_tanah:\n",
      "105.0\n",
      "Standar deviasi luas_tanah:\n",
      "14.93311056335886\n",
      "\n",
      "Rata-rata luas_bangunan:\n",
      "73.0\n",
      "Standar deviasi luas_bangunan:\n",
      "6.025948374480153\n",
      "\n",
      "Rata-rata jarak:\n",
      "34.0\n",
      "Standar deviasi jarak:\n",
      "6.24005184770928\n",
      "\n",
      "Rata-rata harga:\n",
      "1155.0\n",
      "Standar deviasi harga:\n",
      "587.0594351517378\n",
      "\n"
     ]
    }
   ],
   "source": [
    "# Data properti\n",
    "tabel_properti = {\n",
    "'luas_tanah': [70, 70, 70, 100, 100, 100, 120, 120, 150, 150],\n",
    "'luas_bangunan': [50, 60, 60, 50, 70, 70, 100, 80, 100, 90],\n",
    "'jarak': [15, 30, 55, 30, 25, 50, 20, 50, 50, 15],\n",
    "'harga': [500, 400, 300, 700, 1000, 650, 2000, 1200, 1800, 3000]\n",
    "}\n",
    "# Fungsi rata-rata data\n",
    "def hitung_rata_rata(data):\n",
    "    jumlah = 0\n",
    "    for item in data:\n",
    "        jumlah += item\n",
    "    rata_rata = jumlah/len(data)\n",
    "    return rata_rata\n",
    "# Fungsi hitung_standar_deviasi\n",
    "def hitung_standar_deviasi(data):\n",
    "    rata_rata_data = hitung_rata_rata(data)\n",
    "    varians = 0\n",
    "    for item in data:\n",
    "        varians += (item - rata_rata_data) ** 2\n",
    "        varians /= len(data)\n",
    "    standar_deviasi = varians ** (1/2)\n",
    "    return standar_deviasi\n",
    "# Definisikan fungsi untuk menghitung rata-rata dan standar deviasi\n",
    "# setiap kolom pada tabel_properti yang diberikan oleh key dict.\n",
    "def deskripsi_properti(tabel):\n",
    "    for ijo in tabel:\n",
    "        print('Rata-rata ' + ijo + ':')\n",
    "        print(hitung_rata_rata(tabel[ijo])) \n",
    "        print('Standar deviasi ' + ijo + ':')\n",
    "        print(hitung_standar_deviasi(tabel[ijo]))\n",
    "        print('')\n",
    "# Panggil fungsi deskripsi_properti untuk menghitung rata-rata \n",
    "# dan standar deviasi setiap kolom pada tabel_properti\n",
    "deskripsi_properti(tabel_properti)"
   ]
  },
  {
   "cell_type": "code",
   "execution_count": 37,
   "metadata": {},
   "outputs": [
    {
     "ename": "NameError",
     "evalue": "name 'ijo' is not defined",
     "output_type": "error",
     "traceback": [
      "\u001b[1;31m---------------------------------------------------------------------------\u001b[0m",
      "\u001b[1;31mNameError\u001b[0m                                 Traceback (most recent call last)",
      "\u001b[1;32m<ipython-input-37-f74990b902b3>\u001b[0m in \u001b[0;36m<module>\u001b[1;34m\u001b[0m\n\u001b[1;32m----> 1\u001b[1;33m \u001b[0mijo\u001b[0m\u001b[1;33m.\u001b[0m\u001b[0mvalues\u001b[0m\u001b[1;33m(\u001b[0m\u001b[1;33m)\u001b[0m\u001b[1;33m\u001b[0m\u001b[1;33m\u001b[0m\u001b[0m\n\u001b[0m",
      "\u001b[1;31mNameError\u001b[0m: name 'ijo' is not defined"
     ]
    }
   ],
   "source": [
    "ijo.values()"
   ]
  },
  {
   "cell_type": "code",
   "execution_count": 3,
   "metadata": {},
   "outputs": [
    {
     "data": {
      "text/plain": [
       "['a']"
      ]
     },
     "execution_count": 3,
     "metadata": {},
     "output_type": "execute_result"
    }
   ],
   "source": [
    "# STEP 1: \n",
    "# Baca file \"harga_rumah.txt\"\n",
    "file_harga_rumah = open(\"harga_rumah.txt\", \"r\")\n",
    "data_harga_rumah = file_harga_rumah.read()\n",
    "file_harga_rumah.close()\n",
    "# Buat list of dict dengan nama harga rumah\n",
    "key_harga_rumah = data_harga_rumah[1].replace(\"\\n\",\"\").split(\",\")\n",
    "key_harga_rumah"
   ]
  },
  {
   "cell_type": "code",
   "execution_count": 5,
   "metadata": {},
   "outputs": [
    {
     "data": {
      "text/plain": [
       "'tanah,bangunan,jarak_ke_pusat,harga\\n70,50,15,500\\n70,60,30,400\\n70,60,55,300\\n100,50,30,700\\n100,70,25,1000\\n100,70,50,650\\n120,100,20,2000\\n120,80,50,1200\\n150,100,50,1800\\n150,90,15,3000'"
      ]
     },
     "execution_count": 5,
     "metadata": {},
     "output_type": "execute_result"
    }
   ],
   "source": [
    "file_harga_rumah = open(\"harga_rumah.txt\",\"r\")\n",
    "file_harga_rumah.read()"
   ]
  },
  {
   "cell_type": "code",
   "execution_count": 12,
   "metadata": {},
   "outputs": [
    {
     "data": {
      "text/plain": [
       "['tanah', 'bang']"
      ]
     },
     "execution_count": 12,
     "metadata": {},
     "output_type": "execute_result"
    }
   ],
   "source": [
    "data_harga_rumah[0:10].replace(\"\\n\",\"\").split(\",\")"
   ]
  },
  {
   "cell_type": "code",
   "execution_count": null,
   "metadata": {},
   "outputs": [],
   "source": [
    "# STEP 1:\n",
    "# Baca file \"harga_rumah.txt\"\n",
    "file_harga_rumah = open(\"harga_rumah.txt\", \"r\")\n",
    "data_harga_rumah = file_harga_rumah.readlines()\n",
    "file_harga_rumah.close()\n",
    "# Buat list of dict dengan nama harga rumah\n",
    "key_harga_rumah = data_harga_rumah[0].replace(\"\\n\",\"\").split(\",\")\n",
    "harga_rumah = []\n",
    "for baris in data_harga_rumah[1:]:\n",
    "baris_harga_rumah = baris.replace(\"\\n\",\"\").split(\",\")\n",
    "dict_harga_rumah = dict()\n",
    "for i in range(len(baris_harga_rumah)):\n",
    "dict_harga_rumah[key_harga_rumah[i]] = baris_harga_rumah[i]\n",
    "harga_rumah.append(dict_harga_rumah)\n",
    "print(harga_rumah)\n",
    "# STEP 2:\n",
    "# Buat fungsi get_all_specified_attribute yang menerima parameter list_of_dictionary\n",
    "# (tipe data list yang berisikan sekumpulan tipe data dictionary) dan specified_key\n",
    "# (tipe data string). Fungsi akan mengembalikan sebuah list yang berisikan seluruh\n",
    "# atribut dengan kunci (key) specified_key.\n",
    "def get_all_specified_attributes(list_of_dictionary, specified_key):\n",
    "list_attributes = []\n",
    "for data in list_of_dictionary:\n",
    "attribute = data[specified_key]\n",
    "list_attributes.append(attribute)\n",
    "return list_attributes\n",
    "# STEP 3:\n",
    "# Buat fungsi fungsi min_value yang menerima parameter list_attributes (berupa\n",
    "# tipe data list) dan mengembalikan nilai terkecil dalam list_attributes\n",
    "def min_value(list_attributes):\n",
    "min_attribute = 9999\n",
    "for attr in list_attributes:\n",
    "if int(attr) < min_attribute:\n",
    "min_attribute = int(attr)\n",
    "return min_attribute\n",
    "# Buat fungsi dan max_value yang menerima parameter list_attribute dan\n",
    "# mengembalikan nilai terbesar dalam list_attributes.\n",
    "def max_value(list_attributes):\n",
    "max_attribute = -9999\n",
    "for attr in list_attributes:\n",
    "if int(attr) > max_attribute:\n",
    "max_attribute = int(attr)\n",
    "return max_attribute\n",
    "# STEP 4:\n",
    "# Buat fungsi transform_attribute yang menerima parameter attr (sebuah\n",
    "# bilangan), max_attr (sebuah bilangan) dan min_attr (sebuah bilangan)\n",
    "# yang mengembalikan nilai transformasi dari sebuah attribute.\n",
    "def transform_attribute(attr, max_attr, min_attr):\n",
    "nilai_transformasi = (attr - min_attr) / (max_attr - min_attr)\n",
    "return nilai_transformasi\n",
    "# STEP 5:\n",
    "# Buat fungsi data_transformation yang menerima parameter list_of_dictionary\n",
    "# (sebuah list yang berisikan tipe data dictionary) dan list_attribute_names\n",
    "# (sebuah list yang berisikan tipe data string) mengembalikan hasil\n",
    "# transformasi data dari list_of_dictionary berdasarkan list_attribute_names\n",
    "# dan attr_info telah dispesifikasikan.\n",
    "def data_transformation(list_of_dictionary, list_attribute_names):\n",
    "attr_info = {}\n",
    "for attr_name in list_attribute_names:\n",
    "specified_attributes = get_all_specified_attributes(list_of_dictionary, attr_name)\n",
    "max_attr = max_value(specified_attributes)\n",
    "min_attr = min_value(specified_attributes)\n",
    "attr_info[attr_name] = {'max': max_attr, 'min': min_attr}\n",
    "data_idx = 0\n",
    "while(data_idx < len(list_of_dictionary)):\n",
    "list_of_dictionary[data_idx][attr_name] = transform_attribute(int(list_of_dictionary[data_idx][attr_name]), max_attr, min_attr)\n",
    "data_idx += 1\n",
    "return list_of_dictionary, attr_info\n",
    "# STEP 6:\n",
    "# Berdasarkan data baru dan attr_info ini, buat fungsi transform_data yang\n",
    "# menerima parameter data dan attr_info dan mengembalikan nilai atribut\n",
    "# dari data baru yang telah ditransformasikan.\n",
    "def transform_data(data, attr_info):\n",
    "for key_name in data.keys():\n",
    "data[key_name] = (data[key_name] - attr_info[key_name]['min']) / (\n",
    "attr_info[key_name]['max'] - attr_info[key_name]['min'])\n",
    "return data\n",
    "# STEP 7:\n",
    "# Buat fungsi yang digunakan untuk sistem prediksi harga berdasarkan\n",
    "# nilai kemiripan atribut!\n",
    "def abs_value(value):\n",
    "if value < 0:\n",
    "return -value\n",
    "else:\n",
    "return value\n",
    "def price_based_on_similarity(data, list_of_data):\n",
    "prediksi_harga = 0\n",
    "perbedaan_terkecil = 999\n",
    "for data_point in list_of_data:\n",
    "perbedaan= abs_value(data['tanah'] - data_point['tanah'])\n",
    "perbedaan+= abs_value(data['bangunan'] - data_point['bangunan'])\n",
    "perbedaan+= abs_value(data['jarak_ke_pusat'] - data_point['jarak_ke_pusat'])\n",
    "if perbedaan < perbedaan_terkecil:\n",
    "prediksi_harga = data_point['harga']\n",
    "perbedaan_terkecil = perbedaan\n",
    "return prediksi_harga\n",
    "# STEP 8:\n",
    "# Hitung harga rumah yang telah ditransformasikan ke dalam variabel\n",
    "# harga_rumah berikut dengan atributnya attr_info\n",
    "harga_rumah, attr_info = data_transformation(harga_rumah,\n",
    "['tanah','bangunan','jarak_ke_pusat'])\n",
    "# Gunakan variabel data untuk memprediksi harga rumah\n",
    "data = {'tanah': 110, 'bangunan': 80, 'jarak_ke_pusat': 35}\n",
    "# Transformasikan data tersebut dengan dengan menggunakan attr_info yang telah\n",
    "# diperoleh yang kembali disimpan ke variabel data.\n",
    "data = transform_data(data, attr_info)\n",
    "# Hitunglah prediksi harga dari variabel data tersebut.\n",
    "harga = price_based_on_similarity(data, harga_rumah)\n",
    "print(\"Prediksi harga rumah: \", harga)\n",
    "\n",
    "Code Editor\n",
    "Answer\n",
    "Console\n",
    "Graphic\n",
    "> \n"
   ]
  }
 ],
 "metadata": {
  "kernelspec": {
   "display_name": "Python 3",
   "language": "python",
   "name": "python3"
  },
  "language_info": {
   "codemirror_mode": {
    "name": "ipython",
    "version": 3
   },
   "file_extension": ".py",
   "mimetype": "text/x-python",
   "name": "python",
   "nbconvert_exporter": "python",
   "pygments_lexer": "ipython3",
   "version": "3.8.3"
  }
 },
 "nbformat": 4,
 "nbformat_minor": 4
}
